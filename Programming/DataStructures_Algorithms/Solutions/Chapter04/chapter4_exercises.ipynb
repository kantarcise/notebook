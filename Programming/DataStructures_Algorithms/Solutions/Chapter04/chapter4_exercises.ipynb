{
 "cells": [
  {
   "cell_type": "code",
   "execution_count": 3,
   "metadata": {},
   "outputs": [
    {
     "data": {
      "text/plain": [
       "120"
      ]
     },
     "execution_count": 3,
     "metadata": {},
     "output_type": "execute_result"
    }
   ],
   "source": [
    "def factorial(n):\n",
    "    return 1 if n==0 else n * factorial(n-1)\n",
    "\n",
    "factorial(5)"
   ]
  },
  {
   "cell_type": "code",
   "execution_count": 4,
   "metadata": {},
   "outputs": [
    {
     "name": "stdout",
     "output_type": "stream",
     "text": [
      "---- 0\n",
      "-\n",
      "--\n",
      "-\n",
      "---\n",
      "-\n",
      "--\n",
      "-\n",
      "---- 1\n",
      "-\n",
      "--\n",
      "-\n",
      "---\n",
      "-\n",
      "--\n",
      "-\n",
      "---- 2\n"
     ]
    }
   ],
   "source": [
    "# english_ruler recursive\n",
    "\n",
    "def draw_line(tick_length, tick_label=''):\n",
    "    \"\"\"Draw one line with given tick length (followed by optional label).\"\"\"\n",
    "    line = '-' * tick_length\n",
    "    if tick_label:\n",
    "        line += ' ' + tick_label\n",
    "    print(line)\n",
    "\n",
    "def draw_interval(center_lenght):\n",
    "    \"\"\"Draw tick interval based upon a central tick length.\"\"\"\n",
    "    if center_lenght > 0: # stop when length drops to 0\n",
    "        draw_interval(center_lenght - 1) # recursively draw top ticks\n",
    "        draw_line(center_lenght) # draw center tick\n",
    "        draw_interval(center_lenght - 1) # recursively draw bottom ticks\n",
    "\n",
    "def draw_ruler(num_inches, major_lenght):\n",
    "    \"\"\"Draw English ruler with given number of inches, major tick length.\"\"\"\n",
    "    draw_line(major_lenght, '0') # draw inch 0 line\n",
    "    for j in range(1, 1 + num_inches):\n",
    "        draw_interval(major_lenght - 1) # draw interior ticks for inch\n",
    "        draw_line(major_lenght, str(j)) # draw inch j line and label\n",
    "\n",
    "draw_ruler(2, 4)"
   ]
  },
  {
   "cell_type": "code",
   "execution_count": 9,
   "metadata": {},
   "outputs": [
    {
     "name": "stdout",
     "output_type": "stream",
     "text": [
      "Target found at index 5\n"
     ]
    }
   ],
   "source": [
    "# Binary SEARCH\n",
    "\n",
    "def binary_search(arr, target, left=0, right=None):\n",
    "    if right is None:\n",
    "        right = len(arr) - 1\n",
    "\n",
    "    if left > right:\n",
    "        return -1  # target not found\n",
    "\n",
    "    mid = (left + right) // 2\n",
    "\n",
    "    if arr[mid] == target:\n",
    "        return mid  # target found at index mid\n",
    "    elif arr[mid] < target:\n",
    "        return binary_search(arr, target, mid + 1, right)  # search in the right half\n",
    "    else:\n",
    "        return binary_search(arr, target, left, mid - 1)  # search in the left half\n",
    "\n",
    "\n",
    "# Example usage\n",
    "arr = [2, 5, 7, 10, 14, 17, 19, 22, 25]\n",
    "target = 17\n",
    "result = binary_search(arr, target)\n",
    "\n",
    "if result == -1:\n",
    "    print(\"Target not found in the array.\")\n",
    "else:\n",
    "    print(\"Target found at index\", result)\n"
   ]
  },
  {
   "cell_type": "code",
   "execution_count": 22,
   "metadata": {},
   "outputs": [
    {
     "name": "stdout",
     "output_type": "stream",
     "text": [
      "133.7 KBs is used by: /home/sezai/repos/learning/src/chapter3_exercises.ipynb\n",
      "83.34 KBs is used by: /home/sezai/repos/learning/src/chapter1_exercises.ipynb\n",
      "3.641 KBs is used by: /home/sezai/repos/learning/src/recap_01-objects-funtions-decorators.py\n",
      "2.815 KBs is used by: /home/sezai/repos/learning/src/learning_py_cont02.py\n",
      "10.76 KBs is used by: /home/sezai/repos/learning/src/recap_08-listslicing-iterations.py\n",
      "194.1 KBs is used by: /home/sezai/repos/learning/src/chapter2_exercises.ipynb\n",
      "5.485 KBs is used by: /home/sezai/repos/learning/src/recap_04-arrays-list-tuples-strings.py\n",
      "11.06 KBs is used by: /home/sezai/repos/learning/src/recap_10-dict-get-switchcasewithdicts.py\n",
      "1.305 KBs is used by: /home/sezai/repos/learning/src/learning_py_cont.py\n",
      "0.3799 KBs is used by: /home/sezai/repos/learning/src/timetest.py\n",
      "0.6426 KBs is used by: /home/sezai/repos/learning/src/my_text.txt\n",
      "1.653 KBs is used by: /home/sezai/repos/learning/src/recap_03-dicts-maps-hastables.py\n",
      "4.941 KBs is used by: /home/sezai/repos/learning/src/recap_02-mutable-classmethods.py\n",
      "4.722 KBs is used by: /home/sezai/repos/learning/src/chapter4_exercises.ipynb\n",
      "7.532 KBs is used by: /home/sezai/repos/learning/src/sample_yolo.py\n",
      "10.62 KBs is used by: /home/sezai/repos/learning/src/recap_07-heapq-iteration-comprehension.py\n",
      "9.109 KBs is used by: /home/sezai/repos/learning/src/recap_06-sets-multisets-stacks-queues.py\n",
      "34.35 KBs is used by: /home/sezai/repos/learning/src/recap_11-boolsareints-dictupdate.py\n",
      "3.136 KBs is used by: /home/sezai/repos/learning/src/recap_05-why-care-immutables.py\n",
      "11.53 KBs is used by: /home/sezai/repos/learning/src/recap_09-generetors-simplified-iterators.py\n",
      "538.9 KBs is used by: /home/sezai/repos/learning/src\n"
     ]
    },
    {
     "data": {
      "text/plain": [
       "551814"
      ]
     },
     "execution_count": 22,
     "metadata": {},
     "output_type": "execute_result"
    }
   ],
   "source": [
    "import os\n",
    "\n",
    "def disk_usage(path):\n",
    "    \"\"\"Return the number of bytes used by a file/folder and any descendents.\"\"\"\n",
    "    \n",
    "    # if its a file, return its size\n",
    "    total = os.path.getsize(path)\n",
    "    if os.path.isdir(path):\n",
    "        for filename in os.listdir(path):\n",
    "            # One level down within the path\n",
    "            childpath =  os.path.join(path, filename)\n",
    "            # Recursively add the size of the child\n",
    "            total += disk_usage(childpath)\n",
    "    print(f\"{(total/1024):5.4} KBs is used by:\", path)\n",
    "    return total\n",
    "\n",
    "\n",
    "disk_usage(\"/home/sezai/repos/learning/src\")"
   ]
  },
  {
   "cell_type": "code",
   "execution_count": null,
   "metadata": {},
   "outputs": [],
   "source": [
    "# f string formatting with floats\n",
    "\n",
    "# f'{value:{width}.{precision}}'\n",
    "# where:\n",
    "\n",
    "# value is any expression that evaluates to a number\n",
    "\n",
    "# width specifies the number of characters used in total to display, but if value\n",
    "#  needs more space than the width specifies then the additional space is used.\n",
    "\n",
    "# precision indicates the number of characters used after the decimal point\n"
   ]
  },
  {
   "cell_type": "code",
   "execution_count": 27,
   "metadata": {},
   "outputs": [
    {
     "data": {
      "text/plain": [
       "9227465"
      ]
     },
     "execution_count": 27,
     "metadata": {},
     "output_type": "execute_result"
    }
   ],
   "source": [
    "def bad_fibonacci(n):\n",
    "    if n <= 1:\n",
    "        return n\n",
    "    else:\n",
    "        return bad_fibonacci(n-2) + bad_fibonacci(n-1)\n",
    "\n",
    "# Terrible runtime performance O(2^n)\n",
    "\n",
    "bad_fibonacci(35)\n",
    "# THis took 2.6 seconds to run"
   ]
  },
  {
   "cell_type": "code",
   "execution_count": 31,
   "metadata": {},
   "outputs": [
    {
     "data": {
      "text/plain": [
       "(9227465, 5702887)"
      ]
     },
     "execution_count": 31,
     "metadata": {},
     "output_type": "execute_result"
    }
   ],
   "source": [
    "def good_fibonacci(n):\n",
    "    \"\"\"Return a pair of fibonacci numbers\"\"\"\n",
    "    if n <= 1:\n",
    "        return (n, 0)\n",
    "    else:\n",
    "        a,b = good_fibonacci(n-1)\n",
    "        \n",
    "    return (a+b, a)\n",
    "\n",
    "good_fibonacci(35)\n",
    "\n",
    "# THis took 0.2 seconds to run"
   ]
  },
  {
   "cell_type": "code",
   "execution_count": 5,
   "metadata": {},
   "outputs": [],
   "source": [
    "# Maximum recursion depth in python is 1000 by default\n",
    "\n",
    "# if in or binary search algorithm, we mistakenly called the recursive function with the wrong parameters, suhc as\n",
    "# return binary_search(data, target, mid , high) \n",
    "\n",
    "# this would give a Runtime error: maximum recursion depth exceeded \n",
    "\n",
    "# For any reasonable sized problem, the recursive version of the algorithm will run out of stack space before it runs out of time\n",
    "# But we can change the maximum recursion depth by using \n",
    "# \n",
    "\n",
    "import sys\n",
    "old = sys.getrecursionlimit()\n",
    "sys.setrecursionlimit(1000)\n"
   ]
  },
  {
   "cell_type": "code",
   "execution_count": 6,
   "metadata": {},
   "outputs": [
    {
     "data": {
      "text/plain": [
       "1000"
      ]
     },
     "execution_count": 6,
     "metadata": {},
     "output_type": "execute_result"
    }
   ],
   "source": [
    "sys.getrecursionlimit()\n"
   ]
  },
  {
   "cell_type": "code",
   "execution_count": null,
   "metadata": {},
   "outputs": [],
   "source": [
    "# If a recursive call starts at most one other, we call this a linear recursion.\n",
    "# If a recursive call may start two others, we call this a binary recursion.\n",
    "# If a recursive call may start three or more others, this is multiple recursion.\n",
    "\n",
    "# Linear REcurison\n",
    "\n",
    "def linear_sum(S, n):\n",
    "    \"\"\"Return the sum of the first n numbers of sequence S.\"\"\"\n",
    "    if n == 0: \n",
    "        return 0\n",
    "    else:\n",
    "        return linear_sum(S, n-1) + S[n-1]\n",
    "\n",
    "# or\n",
    "\n",
    "def reverse(S, start, stop):\n",
    "    \"\"\"Reverse elements in implicit slice S[start:stop].\"\"\"\n",
    "    if start < stop - 1: # if at least 2 elements:\n",
    "        S[start], S[stop-1] = S[stop-1], S[start] # swap first and last\n",
    "        reverse(S, start+1, stop-1) # recur on rest"
   ]
  },
  {
   "cell_type": "code",
   "execution_count": 7,
   "metadata": {},
   "outputs": [],
   "source": [
    "# Recursive Algorithms for Computing Powers\n",
    "\n",
    "def power(x, n):\n",
    "    \"\"\"Compute the value x**n for integer n.\"\"\"\n",
    "    if n == 0:\n",
    "        return 1\n",
    "    else:\n",
    "        return x * power(x, n-1)\n",
    "\n",
    "# This is a linear recursion, because each recursive call makes at most one recursive call\n",
    "# We can do better in terms of time complexity by using a binary recursion\n",
    "\n",
    "def power(x,n):\n",
    "    \"\"\"Compute the value x**n for integer n.\"\"\"\n",
    "    if n == 0:\n",
    "        return 1\n",
    "    else:\n",
    "        partial = power(x, n//2) # rely on truncated division\n",
    "        result = partial * partial\n",
    "        if n % 2 == 1: # if n odd, include extra factor of x\n",
    "            result *= x\n",
    "        return result\n",
    "\n",
    "# we got to O(logn) time complexity"
   ]
  },
  {
   "cell_type": "code",
   "execution_count": null,
   "metadata": {},
   "outputs": [],
   "source": [
    "# Binary Recursion\n",
    "\n",
    "def binary_sum(S, start,stop):\n",
    "    \"\"\"Return the sum of the numbers in implicit slice S[start:stop].\"\"\"\n",
    "    if start >= stop :              # zero elements in slice\n",
    "        return 0\n",
    "    elif start == stop - 1:         # one element in slice\n",
    "        return S[start]\n",
    "    else:                           # two or more elements in slice\n",
    "        mid = (start + stop) // 2\n",
    "        return binary_sum(S, start,mid) + binary_sum(S,mid, stop)\n",
    "\n",
    "# Although binary sum has 2^n recursive calls, the time complexity is O(n) because at each call n is halved.\n",
    "# 2^(log2^n) = n\n",
    "#  "
   ]
  },
  {
   "cell_type": "code",
   "execution_count": 8,
   "metadata": {},
   "outputs": [],
   "source": [
    "# Multiple Recursion\n",
    "\n",
    "# A multiple recursion is one in which a recursive call may make more than two recursive calls\n",
    "# Looks like this\n",
    "\n",
    "# Algorithm PuzzleSolve(k,S,U):\n",
    "#   Input: An integer k, sequence S, and set U\n",
    "#   Output: An enumeration of all k-length extensions to S using elements in U\n",
    "#       without repetitions\n",
    "#   for each e in U do\n",
    "#       Add e to the end of S\n",
    "#       Remove e from U {e is now being used}\n",
    "#       if k = =  1 then\n",
    "#           Test whether S is a configuration that solves the puzzle\n",
    "#           if S solves the puzzle then\n",
    "#           return “Solution found: ” S\n",
    "#       else\n",
    "#           PuzzleSolve(k−1,S,U) {a recursive call}\n",
    "#       Remove e from the end of S\n",
    "#       Add e back to U {e is now considered as unused}"
   ]
  },
  {
   "cell_type": "code",
   "execution_count": 9,
   "metadata": {},
   "outputs": [],
   "source": [
    "# Designing Recursive Algorithms\n",
    "\n",
    "# In general, an algorithm that uses recursion typically has the following form:\n",
    "\n",
    "# •Test for base cases. We begin by testing for a set of base cases (there should\n",
    "# be at least one). These base cases should be defined so that every possible\n",
    "# chain of recursive calls will eventually reach a base case, and the handling of\n",
    "# each base case should not use recursion.\n",
    "\n",
    "# •Recur. If not a base case, we perform one or more recursive calls. This recur-\n",
    "# sive step may involve a test that decides which of several possible recursive\n",
    "# calls to make. We should define each possible recursive call so that it makes\n",
    "# progress towards a base case.\n",
    "\n",
    "# MAKE SURE YOUR FUNCTION SIGNATURE IS READY TO BE CALLED OVER AND OVER\n",
    "\n",
    "# A successful recursive design sometimes requires that we redefine the original\n",
    "# problem to facilitate similar-looking subproblems. Often, this involved reparameterizing\n",
    "#  the signature of the function. For example, when performing a binary\n",
    "# search in a sequence, a natural function signature for a caller would appear as\n",
    "# binary search(data, target). However, in Section 4.1.3, we defined our function\n",
    "# with calling signature binary search(data, target, low, high), using the additional\n",
    "# parameters to demarcate sublists as the recursion proceeds. This change in parameterization\n",
    "#  is critical for binary search. \n",
    "# \n",
    "# If we had insisted on the cleaner signature,\n",
    "# binary search(data, target), the only way to invoke a search on half the list would\n",
    "# have been to make a new list instance with only those elements to send as the first\n",
    "# parameter. However, making a copy of half the list would already take O(n) time,\n",
    "# negating the whole benefit of the binary search algorithm.\n",
    "# \n",
    "# If we wished to provide a cleaner public interface to an algorithm like binary search,\n",
    "#  without bothering a user with the extra parameters, a standard technique is\n",
    "#  to make one function for public use with the cleaner interface, such as\n",
    "# binary search(data, target), and then having its body invoke a nonpublic utility\n",
    "# function having the desired recursive parameters.\n",
    "# \n",
    "# You will see that we similarly reparameterized the recursion in several other examples\n",
    "#  of this chapter (e.g., reverse, linear sum, binary sum). We saw a different\n",
    "# approach to redefining a recursion in our good fibonacci implementation, by intentionally\n",
    "#  strengthening the expectation of what is returned (in that case, returning a pair of numbers rather than a single number)."
   ]
  },
  {
   "cell_type": "code",
   "execution_count": null,
   "metadata": {},
   "outputs": [],
   "source": [
    "# Eliminating Tail Recursion\n",
    "\n",
    "# We can use Stacks to minimize the space used by a recursive algorithm\n",
    "# Instead of waiting the Python Interpreter to keep track of the recursive calls, we can do it ourselves\n",
    "# This will be in CHapter 6\n",
    "\n",
    "# Even better, some forms of recursion can be eliminated without any use of axillary memory.\n",
    "\n",
    "# A recursion is a tail recursion if any recursive call that is made from one context is the very\n",
    "# last operation in that context, with the return value of the recursive call (if any)\n",
    "# immediately returned by the enclosing recursion.\n",
    "\n",
    "\n",
    "# HEre is a non recursive version of the binary_search\n",
    "\n",
    "def binary_search_iterative(data, target):\n",
    "    \"\"\"Return True if target is found in the given Python list.\"\"\"\n",
    "    low = 0\n",
    "    high = len(data)-1\n",
    "    while low <= high: \n",
    "        mid = (low + high) // 2\n",
    "        if target == data[mid]: # found a match\n",
    "            return True\n",
    "        elif target < data[mid]:\n",
    "            high = mid -1 # only consider values left of mid\n",
    "        else:\n",
    "            low = mid + 1 # only consider values right of mid\n",
    "    return False # loop ended without success\n",
    "\n",
    "# we simply replace high = mid −1 in our new version and then continue to the\n",
    "# next iteration of the loop. Our original base case condition of low > high has\n",
    "# simply been replaced by the opposite loop condition while low <= high . In our\n",
    "# new implementation, we return False to designate a failed search if the while loop\n",
    "# ends (that is, without having ever returned True from within).\n",
    "\n",
    "# Also a non recursive, two pointer approach to reversing\n",
    "\n",
    "def reverse_iterative(S):\n",
    "    \"\"\"Reverse elements in sequence S.\"\"\"\n",
    "    start, stop = 0, len(S)\n",
    "    while start < stop -1:\n",
    "        S[start], S[stop-1] = S[stop-1], S[start] # swap first and last\n",
    "        start, stop = start + 1, stop -1 # narrow the range"
   ]
  },
  {
   "cell_type": "code",
   "execution_count": 10,
   "metadata": {},
   "outputs": [],
   "source": [
    "# R-4.1\n",
    "#  Describe a recursive algorithm for finding the maximum element in a \n",
    "# sequence, S, of n elements. What is your running time and space usage?\n",
    "\n",
    "# max() takes constant time to compare two elements 0(1)\n",
    "\n",
    "def max_element(S):\n",
    "    if len(S) == 1:\n",
    "        return S[0]\n",
    "    else:\n",
    "        return max(S[0], max_element(S[1:]))\n",
    "\n",
    "# In the worst-case scenario, where the input list S has n elements, the function performs\n",
    "#  a recursive call for each element in the list except the last one. In each\n",
    "#  recursive call, the size of the list is reduced by 1. Therefore, the total \n",
    "# number of recursive calls is n - 1.\n",
    "# \n",
    "# In each recursive call, the function compares two elements using the\n",
    "#  max function. Since max takes constant time to compare two elements, the time \n",
    "# complexity of the function can be expressed as the number of comparisons made.\n",
    "# \n",
    "# The number of comparisons made is equal to the number of recursive calls, which \n",
    "# is n - 1 in this case. Therefore, the time complexity of the function is O(n).\n",
    "# \n",
    "# Regarding space complexity, the function utilizes space on the call stack\n",
    "#  for each recursive call. In the worst-case scenario, where the recursion reaches \n",
    "# the base case (len(S) == 1), the maximum depth of the call stack will be n. Hence, the \n",
    "# space complexity of the function is O(n).\n",
    "# \n",
    "# In summary:\n",
    "# \n",
    "# Time complexity: O(n)\n",
    "# Space complexity: O(n)"
   ]
  },
  {
   "cell_type": "code",
   "execution_count": 11,
   "metadata": {},
   "outputs": [
    {
     "data": {
      "text/plain": [
       "32"
      ]
     },
     "execution_count": 11,
     "metadata": {},
     "output_type": "execute_result"
    }
   ],
   "source": [
    "# R-4.2 \n",
    "# Draw the recursion trace for the computation of power(2, 5), using the \n",
    "# traditional function implemented in Code Fragment 4.11.\n",
    "\n",
    "def power(x, n):\n",
    "\n",
    "    if n == 0:\n",
    "        return 1\n",
    "    else:\n",
    "        return x * power(x, n-1)\n",
    "\n",
    "power(2, 5)\n",
    "#     -> return 2 * power(2, 4)\n",
    "#             -> return 2 * power(2, 3)\n",
    "#                     -> return 2 * power(2, 2)\n",
    "#                             -> return 2 * power(2, 1)\n",
    "#                                     -> return 2 * power(2, 0)\n",
    "#                                             -> return 1 (base case: n = 0)\n",
    "#                                     -> return 2 * 1 = 2\n",
    "#                             -> return 2 * 2 = 4\n",
    "#                     -> return 2 * 4 = 8\n",
    "#             -> return 2 * 8 = 16\n",
    "#     -> return 2 * 16 = 32\n",
    "\n"
   ]
  },
  {
   "cell_type": "code",
   "execution_count": 13,
   "metadata": {},
   "outputs": [
    {
     "data": {
      "text/plain": [
       "262144"
      ]
     },
     "execution_count": 13,
     "metadata": {},
     "output_type": "execute_result"
    }
   ],
   "source": [
    "# R-4.3 \n",
    "# Draw the recursion trace for the computation of power(2, 18), using the \n",
    "# repeated squaring algorithm, as implemented in Code Fragment 4.12.\n",
    "\n",
    "def power(x, n):\n",
    "    \"\"\"Compute the value x**n for integer n.\"\"\"\n",
    "    if n == 0:\n",
    "        return 1\n",
    "    else:\n",
    "        partial = power(x, n // 2)\n",
    "        result = partial * partial\n",
    "        if n % 2 == 1:\n",
    "            result *= x\n",
    "        return result\n",
    "\n",
    "# Now let's go through the recursion trace for the computation of power(2, 18):\n",
    "\n",
    "# Initially, we call power(2, 18).\n",
    "# Since n is not zero, we proceed to the else block.\n",
    "\n",
    "# We calculate partial = power(2, 18 // 2), which is partial = power(2, 9).\n",
    "# Another recursive call is made to power(2, 9).\n",
    "\n",
    "# Again, n is not zero, so we calculate partial = power(2, 9 // 2), which is partial = power(2, 4).\n",
    "# We make another recursive call to power(2, 4).\n",
    "# n is still not zero, so we calculate partial = power(2, 4 // 2), which is partial = power(2, 2).\n",
    "# Another recursive call is made to power(2, 2).\n",
    "# n is not zero, so we calculate partial = power(2, 2 // 2), which is partial = power(2, 1).\n",
    "# We make another recursive call to power(2, 1).\n",
    "# n is not zero, so we calculate partial = power(2, 1 // 2), which is partial = power(2, 0).\n",
    "# We make the final recursive call to power(2, 0).\n",
    "# The base case is satisfied (n == 0), so we return 1.\n",
    "\n",
    "# The previous recursive call power(2, 1) multiplies partial (which is 1) by x, resulting in 2.\n",
    "# The next recursive call power(2, 2) multiplies partial (which is 2) by itself, resulting in 4.\n",
    "# We continue unwinding the recursive calls, performing the necessary multiplications until we reach the initial call.\n",
    "# The initial call power(2, 18) multiplies partial (which is 4) by itself, resulting in 16.\n",
    "# Since 18 % 2 == 0, no additional multiplication by x is required.\n",
    "# The final result is 16.\n",
    "\n",
    "power(2, 18)\n",
    "\n",
    "#   -> partial = power(2, 9)\n",
    "#       -> partial = power(2, 4)\n",
    "#           -> partial = power(2, 2)\n",
    "#               -> partial = power(2, 1)\n",
    "#                   -> partial = power(2, 0)\n",
    "#                       -> 1 (base case)\n",
    "#                   -> 2 * 1\n",
    "#               -> 2 * 2\n",
    "#           -> 4 * 4\n",
    "#       -> 16 * 16\n",
    "#   -> 256\n",
    "\n"
   ]
  },
  {
   "cell_type": "code",
   "execution_count": 15,
   "metadata": {},
   "outputs": [
    {
     "data": {
      "text/plain": [
       "[6, 2, 6, 3, 4]"
      ]
     },
     "execution_count": 15,
     "metadata": {},
     "output_type": "execute_result"
    }
   ],
   "source": [
    "# R-4.4 \n",
    "# Draw the recursion trace for the execution of function reverse(S, 0, 5)\n",
    "# (Code Fragment 4.10) on  S = [4, 3, 6, 2, 6]\n",
    "\n",
    "S = [4, 3, 6, 2, 6]\n",
    "\n",
    "def reverse(S, start, stop):\n",
    "    \"\"\"Reverse elements in implicit slice S[start:stop].\"\"\"\n",
    "    if start < stop - 1:\n",
    "        S[start], S[stop-1] = S[stop-1], S[start]  # swap first and last\n",
    "        reverse(S, start+1, stop-1)\n",
    "\n",
    "# Now let's go through the recursion trace for the execution of reverse(S, 0, 5) on S = [4, 3, 6, 2, 6]:\n",
    "\n",
    "# Initially, we call reverse(S, 0, 5).\n",
    "# The condition start < stop - 1 is satisfied (0 < 5 - 1), so we proceed to the swap operation.\n",
    "# The first and last elements are swapped, resulting in S = [6, 3, 6, 2, 4].\n",
    "# We make a recursive call to reverse(S, 1, 4).\n",
    "# Again, the condition start < stop - 1 is satisfied (1 < 4 - 1), so we swap the first and last elements of the slice S[1:4].\n",
    "# After the swap, S = [6, 2, 6, 3, 4].\n",
    "# Another recursive call is made to reverse(S, 2, 3).\n",
    "# Since start is no longer less than stop - 1 (2 < 3 - 1 is false), the function returns without further recursion.\n",
    "# The function unwinds, and the initial call to reverse(S, 0, 5) completes.\n",
    "\n",
    "reverse(S, 0, 5)\n",
    "\n",
    "#   -> Swap S[0] and S[4]  # S = [6, 3, 6, 2, 4]\n",
    "#   -> reverse(S, 1, 4)\n",
    "#       -> Swap S[1] and S[3]  # S = [6, 2, 6, 3, 4]\n",
    "#       -> reverse(S, 2, 3)\n",
    "#           # No further recursion, returns\n",
    "#       # Returns to previous recursive call\n",
    "#   # Returns to initial call\n",
    "\n",
    "S"
   ]
  },
  {
   "cell_type": "code",
   "execution_count": 16,
   "metadata": {},
   "outputs": [],
   "source": [
    "#  R-4.5\n",
    "#  Draw the recursion trace for the execution of function PuzzleSolve(3, S,U )\n",
    "# (Code Fragment 4.14), where S is empty and U = {a, b, c, d}.\n",
    "\n",
    "# To draw the recursion trace for the execution of the PuzzleSolve function with PuzzleSolve(3, S, U) using \n",
    "# Code Fragment 4.14, where S is empty and U = {'a', 'b', 'c', 'd'}, we'll refer to\n",
    "#  the provided code. Here's the function implementation for reference:\n",
    "\n",
    "def PuzzleSolve(k, S, U):\n",
    "    if k == 1:\n",
    "        for e in U:\n",
    "            S.append(e)\n",
    "            if solves_puzzle(S):\n",
    "                return \"Solution found: \" + str(S)\n",
    "            S.pop()\n",
    "        return\n",
    "    \n",
    "    for e in U:\n",
    "        S.append(e)\n",
    "        U.remove(e)\n",
    "        PuzzleSolve(k - 1, S, U)\n",
    "        U.add(e)\n",
    "        S.pop()\n",
    "\n",
    "def solves_puzzle(S):\n",
    "    # Implement your puzzle-solving logic here\n",
    "    # Return True if S solves the puzzle, otherwise False\n",
    "    # Modify this function according to your specific puzzle requirements\n",
    "    return False\n",
    "\n",
    "# Now let's go through the recursion trace for the execution of PuzzleSolve(3, S, U) with S empty and U = {'a', 'b', 'c', 'd'}:\n",
    "\n",
    "# Initially, we call PuzzleSolve(3, S, U).\n",
    "# The value of k is not equal to 1, so we move to the for loop.\n",
    "\n",
    "# The first iteration selects 'a' from U.\n",
    "#   S becomes ['a'].\n",
    "#   'a' is removed from U.\n",
    "#   We make a recursive call to PuzzleSolve(2, S, U).\n",
    "\n",
    "# Inside the recursive call:\n",
    "#   The value of k is not equal to 1, so we move to the for loop.\n",
    "#   The first iteration selects 'a' from U.\n",
    "#       S becomes ['a', 'a'].\n",
    "#       'a' is removed from U.\n",
    "#       We make another recursive call to PuzzleSolve(1, S, U).\n",
    "\n",
    "# Inside the second recursive call:\n",
    "#   The value of k is 1, so we enter the base case.\n",
    "#   We iterate over the elements in U (only 'a' is left).\n",
    "#       S becomes ['a', 'a', 'a'].\n",
    "#       We check if solves_puzzle(S) returns True.\n",
    "#       Since we haven't defined solves_puzzle in the code, the result is not a solution, so we continue.\n",
    "#   We unwind the recursive call, remove 'a' from S, and add it back to U.\n",
    "#   The first recursive call continues to the second iteration of the for loop.\n",
    "#   The second iteration selects 'b' from U.\n",
    "#       S becomes ['a', 'b'].\n",
    "#       'b' is removed from U.\n",
    "#       We make another recursive call to PuzzleSolve(1, S, U).\n",
    "\n",
    "# Inside the third recursive call:\n",
    "#   The value of k is 1, so we enter the base case.\n",
    "#   We iterate over the elements in U (only 'b' is left).\n",
    "#       S becomes ['a', 'b', 'b'].\n",
    "#       We check if solves_puzzle(S) returns True.\n",
    "#       Since we haven't defined solves_puzzle in the code, the result is not a solution, so we continue.\n",
    "#   We unwind the recursive call, remove 'b' from S, and add it back to U.\n",
    "#   The first recursive call continues to the third iteration of the for loop.\n",
    "#   The third iteration selects 'c' from U.\n",
    "#       S becomes ['a', 'c'].\n",
    "#       'c' is removed from U.\n",
    "#       We make another recursive call to PuzzleSolve(1, S, U).\n",
    "\n",
    "# Inside the fourth recursive call:\n",
    "#   The value of k is 1, so we enter the base case.\n",
    "#   We iterate over the elements in U (only 'c' is left).\n",
    "#       S becomes ['a', 'c', 'c'].\n",
    "#       We check if solves_puzzle(S) returns True.\n",
    "#       Since we haven't defined solves_puzzle in the code, the result is not a solution, so we continue.\n",
    "#   We unwind the recursive call, remove 'c' from S, and add it back to U.\n",
    "#   The first recursive call continues to the fourth and final iteration of the for loop.\n",
    "#   The fourth iteration selects 'd' from U.\n",
    "#       S becomes ['a', 'd'].\n",
    "#       'd' is removed from U.\n",
    "#       We make another recursive call to PuzzleSolve(1, S, U).\n",
    "\n",
    "# Inside the fifth recursive call:\n",
    "#   The value of k is 1, so we enter the base case.\n",
    "#   We iterate over the elements in U (only 'd' is left).\n",
    "#       S becomes ['a', 'd', 'd'].\n",
    "#       We check if solves_puzzle(S) returns True.\n",
    "#       Since we haven't defined solves_puzzle in the code, the result is not a solution, so we continue.\n",
    "#   We unwind the recursive call, remove 'd' from S, and add it back to U.\n",
    "#   The first recursive call completes the iterations of the for loop.\n",
    "#   We unwind the recursive call, remove 'a' from S, and add it back to U.\n",
    "\n",
    "# The initial call completes the iterations of the for loop.\n",
    "# The function execution ends.\n",
    "\n",
    "# The recursion trace can be summarized as follows:\n",
    " \n",
    "PuzzleSolve(3, [], {'a', 'b', 'c', 'd'})\n",
    "#   -> 'a' selected from U\n",
    "#     -> PuzzleSolve(2, ['a'], {'b', 'c', 'd'})\n",
    "#       -> 'a' selected from U\n",
    "#         -> PuzzleSolve(1, ['a', 'a'], {'c', 'd'})\n",
    "#           -> Base case: Check 'a', 'a', 'a' for solution\n",
    "#           -> Remove 'a' from S, add it back to U\n",
    "#         -> 'b' selected from U\n",
    "#           -> PuzzleSolve(1, ['a', 'b'], {'c', 'd'})\n",
    "#             -> Base case: Check 'a', 'b', 'b' for solution\n",
    "#             -> Remove 'b' from S, add it back to U\n",
    "#         -> 'c' selected from U\n",
    "#           -> PuzzleSolve(1, ['a', 'c'], {'c', 'd'})\n",
    "#             -> Base case: Check 'a', 'c', 'c' for solution\n",
    "#             -> Remove 'c' from S, add it back\n"
   ]
  },
  {
   "cell_type": "code",
   "execution_count": 18,
   "metadata": {},
   "outputs": [
    {
     "data": {
      "text/plain": [
       "2.283333333333333"
      ]
     },
     "execution_count": 18,
     "metadata": {},
     "output_type": "execute_result"
    }
   ],
   "source": [
    "# R-4.6 \n",
    "# Describe a recursive function for computing the nth Harmonic number,\n",
    "# Hn = ∑ni=1 1/i.\n",
    "\n",
    "def harmonic(n):\n",
    "    if n == 1:\n",
    "        return 1\n",
    "    else:\n",
    "        return 1/n + harmonic(n-1)\n",
    "\n",
    "# Recursion trace\n",
    "# \n",
    "harmonic(5)\n",
    "#   -> 1/5 + harmonic_number(4)\n",
    "#     -> 1/4 + harmonic_number(3)\n",
    "#       -> 1/3 + harmonic_number(2)\n",
    "#         -> 1/2 + harmonic_number(1)\n",
    "#           -> Base case: return 1\n",
    "#         -> 1/2 + 1\n",
    "#       -> 1/3 + 3/2\n",
    "#     -> 1/4 + 5/3\n",
    "#   -> 1/5 + 19/12\n",
    "#   -> 39/20\n",
    " "
   ]
  },
  {
   "cell_type": "code",
   "execution_count": 27,
   "metadata": {},
   "outputs": [
    {
     "data": {
      "text/plain": [
       "52555"
      ]
     },
     "execution_count": 27,
     "metadata": {},
     "output_type": "execute_result"
    }
   ],
   "source": [
    "# R-4.7\n",
    "#  Describe a recursive function for converting a string of digits into the \n",
    "# integer it represents. For example, 13531 represents the integer 13531.\n",
    "\n",
    "def string_to_integer(string):\n",
    "    if len(string) == 1:\n",
    "        return int(string)\n",
    "    else:\n",
    "        return int(string[0]) * 10**(len(string)-1)  + string_to_integer(string[1:])\n",
    "\n",
    "string_to_integer(\"52555\")"
   ]
  },
  {
   "cell_type": "code",
   "execution_count": null,
   "metadata": {},
   "outputs": [],
   "source": [
    "# R-4.8 \n",
    "# Isabel has an interesting way of summing up the values in a sequence A of\n",
    "# n integers, where n is a power of two. She creates a new sequence B of half\n",
    "# the size of A and sets B[i] = A[2i] + A[2i + 1], for i = 0, 1, . . . , (n/2) −1. \n",
    "# If B has size 1, then she outputs B[0]. Otherwise, she replaces A with B, and \n",
    "# repeats the process. What is the running time of her algorithm?\n",
    "\n",
    "def isabelle_sum(A):\n",
    "    if len(A) == 1:\n",
    "        return A[0]\n",
    "    else:\n",
    "        B = []\n",
    "        for i in range(len(A)//2):\n",
    "            B.append(A[2*i] + A[2*i+1])\n",
    "        return isabelle_sum(B)\n",
    "\n",
    "\n",
    "# Let's analyze the running time of each iteration. In each iteration, Isabel performs\n",
    "#  n/2 additions to compute the values of B[i] = A[2i] + A[2i + 1]. Therefore, the\n",
    "#  running time of each iteration is O(n/2).\n",
    "\n",
    "# The number of iterations can be determined by the number of times we can\n",
    "#  divide n by 2 until we reach 1. Since n is a power of two, it can be\n",
    "#  expressed as n = 2^k, where k is the number of iterations required to reach size 1.\n",
    "\n",
    "# To find k, we can solve the equation n = 2^k for k:\n",
    "# 2^k = n\n",
    "# Taking the logarithm base 2 of both sides:\n",
    "# k = log2(n)\n",
    "\n",
    "# Hence, the number of iterations is log2(n). As each iteration takes O(n/2) time, the total running time of Isabel's algorithm can be expressed as:\n",
    "\n",
    "# O(n/2) + O(n/4) + O(n/8) + ... + O(1)\n",
    "\n",
    "# Using the properties of geometric series, we can simplify the expression:\n",
    "\n",
    "# O(n/2 + n/4 + n/8 + ... + 1)\n",
    "# O(n(1/2 + 1/4 + 1/8 + ... + 1/n) )\n",
    "\n",
    "# The sum 1/2 + 1/4 + 1/8 + ... + 1/n is a convergent series and can be bounded by a constant.\n",
    "#  Therefore, we can approximate the running time as:\n",
    "\n",
    "# O(n)\n",
    "\n",
    "# In conclusion, the running time of Isabel's algorithm is O(n), where n is the size of the input sequence A.\n"
   ]
  },
  {
   "cell_type": "code",
   "execution_count": 7,
   "metadata": {},
   "outputs": [
    {
     "data": {
      "text/plain": [
       "(1, 6)"
      ]
     },
     "execution_count": 7,
     "metadata": {},
     "output_type": "execute_result"
    }
   ],
   "source": [
    "# C-4.9 \n",
    "# Write a short recursive Python function that finds the minimum \n",
    "# and maximum values in a sequence without using any loops.\n",
    "\n",
    "def min_max(A):\n",
    "    # base case\n",
    "    if len(A) == 1:\n",
    "        return A[0], A[0]\n",
    "    else:\n",
    "        # slice of the seq\n",
    "        min_, max_ = min_max(A[1:])\n",
    "        # recurring with comperison\n",
    "        # min max both o(1) as they only compare 2 values\n",
    "        return min(A[0], min_), max(A[0], max_)\n",
    "\n",
    "\n",
    "min_max([1,2,3,4,5,6])"
   ]
  },
  {
   "cell_type": "code",
   "execution_count": 8,
   "metadata": {},
   "outputs": [
    {
     "data": {
      "text/plain": [
       "2"
      ]
     },
     "execution_count": 8,
     "metadata": {},
     "output_type": "execute_result"
    }
   ],
   "source": [
    "# C-4.10 \n",
    "# Describe a recursive algorithm to compute the integer part of the base-two\n",
    "# logarithm of n using only addition and integer division.\n",
    "\n",
    "def log_2_recursive(n):\n",
    "    if n == 1:\n",
    "        return 0\n",
    "    else:\n",
    "        return 1 + log_2_recursive(n//2)\n",
    "\n",
    "log_2_recursive(5)"
   ]
  },
  {
   "cell_type": "code",
   "execution_count": 13,
   "metadata": {},
   "outputs": [
    {
     "name": "stdout",
     "output_type": "stream",
     "text": [
      "THIS should bve false False\n",
      "This should be true: True\n"
     ]
    }
   ],
   "source": [
    "# C-4.11 \n",
    "# Describe an efficient recursive function for solving the element uniqueness\n",
    "#  problem, which runs in time that is at most O(n^2) in the worst case\n",
    "# without using sorting.\n",
    "\n",
    "def unique(A):\n",
    "    if len(A) == 1:\n",
    "        return True\n",
    "    else:\n",
    "        # check if first element is in the rest of the list\n",
    "        if A[0] in A[1:]:\n",
    "            return False\n",
    "        else:\n",
    "            return unique(A[1:])\n",
    "\n",
    "\n",
    "print(F\"THIS should be false {unique([1,2,3,45,45])}\")\n",
    "\n",
    "print(\"This should be true:\",unique([1,2,3,4,5]))"
   ]
  },
  {
   "cell_type": "code",
   "execution_count": null,
   "metadata": {},
   "outputs": [],
   "source": [
    "# C-4.12 \n",
    "# Give a recursive algorithm to compute the product of two positive integers,\n",
    "# m and n, using only addition and subtraction.\n",
    "\n",
    "# Left in here.\n"
   ]
  }
 ],
 "metadata": {
  "kernelspec": {
   "display_name": "Python 3.8.16 ('api_tryout')",
   "language": "python",
   "name": "python3"
  },
  "language_info": {
   "codemirror_mode": {
    "name": "ipython",
    "version": 3
   },
   "file_extension": ".py",
   "mimetype": "text/x-python",
   "name": "python",
   "nbconvert_exporter": "python",
   "pygments_lexer": "ipython3",
   "version": "3.8.16"
  },
  "orig_nbformat": 4,
  "vscode": {
   "interpreter": {
    "hash": "5c91247f238ffe20a81ff6d7bbd78e8b7013835d5efca94aed45fabb2c8c2521"
   }
  }
 },
 "nbformat": 4,
 "nbformat_minor": 2
}
