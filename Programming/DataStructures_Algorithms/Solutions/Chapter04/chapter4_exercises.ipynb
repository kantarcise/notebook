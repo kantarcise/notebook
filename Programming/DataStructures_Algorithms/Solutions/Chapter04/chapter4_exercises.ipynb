{
 "cells": [
  {
   "cell_type": "code",
   "execution_count": 3,
   "metadata": {},
   "outputs": [
    {
     "data": {
      "text/plain": [
       "120"
      ]
     },
     "execution_count": 3,
     "metadata": {},
     "output_type": "execute_result"
    }
   ],
   "source": [
    "def factorial(n):\n",
    "    return 1 if n==0 else n * factorial(n-1)\n",
    "\n",
    "factorial(5)"
   ]
  },
  {
   "cell_type": "code",
   "execution_count": 4,
   "metadata": {},
   "outputs": [
    {
     "name": "stdout",
     "output_type": "stream",
     "text": [
      "---- 0\n",
      "-\n",
      "--\n",
      "-\n",
      "---\n",
      "-\n",
      "--\n",
      "-\n",
      "---- 1\n",
      "-\n",
      "--\n",
      "-\n",
      "---\n",
      "-\n",
      "--\n",
      "-\n",
      "---- 2\n"
     ]
    }
   ],
   "source": [
    "# english_ruler recursive\n",
    "\n",
    "def draw_line(tick_length, tick_label=''):\n",
    "    \"\"\"Draw one line with given tick length (followed by optional label).\"\"\"\n",
    "    line = '-' * tick_length\n",
    "    if tick_label:\n",
    "        line += ' ' + tick_label\n",
    "    print(line)\n",
    "\n",
    "def draw_interval(center_lenght):\n",
    "    \"\"\"Draw tick interval based upon a central tick length.\"\"\"\n",
    "    if center_lenght > 0: # stop when length drops to 0\n",
    "        draw_interval(center_lenght - 1) # recursively draw top ticks\n",
    "        draw_line(center_lenght) # draw center tick\n",
    "        draw_interval(center_lenght - 1) # recursively draw bottom ticks\n",
    "\n",
    "def draw_ruler(num_inches, major_lenght):\n",
    "    \"\"\"Draw English ruler with given number of inches, major tick length.\"\"\"\n",
    "    draw_line(major_lenght, '0') # draw inch 0 line\n",
    "    for j in range(1, 1 + num_inches):\n",
    "        draw_interval(major_lenght - 1) # draw interior ticks for inch\n",
    "        draw_line(major_lenght, str(j)) # draw inch j line and label\n",
    "\n",
    "draw_ruler(2, 4)"
   ]
  },
  {
   "cell_type": "code",
   "execution_count": 9,
   "metadata": {},
   "outputs": [
    {
     "name": "stdout",
     "output_type": "stream",
     "text": [
      "Target found at index 5\n"
     ]
    }
   ],
   "source": [
    "# Binary SEARCH\n",
    "\n",
    "def binary_search(arr, target, left=0, right=None):\n",
    "    if right is None:\n",
    "        right = len(arr) - 1\n",
    "\n",
    "    if left > right:\n",
    "        return -1  # target not found\n",
    "\n",
    "    mid = (left + right) // 2\n",
    "\n",
    "    if arr[mid] == target:\n",
    "        return mid  # target found at index mid\n",
    "    elif arr[mid] < target:\n",
    "        return binary_search(arr, target, mid + 1, right)  # search in the right half\n",
    "    else:\n",
    "        return binary_search(arr, target, left, mid - 1)  # search in the left half\n",
    "\n",
    "\n",
    "# Example usage\n",
    "arr = [2, 5, 7, 10, 14, 17, 19, 22, 25]\n",
    "target = 17\n",
    "result = binary_search(arr, target)\n",
    "\n",
    "if result == -1:\n",
    "    print(\"Target not found in the array.\")\n",
    "else:\n",
    "    print(\"Target found at index\", result)\n"
   ]
  },
  {
   "cell_type": "code",
   "execution_count": 22,
   "metadata": {},
   "outputs": [
    {
     "name": "stdout",
     "output_type": "stream",
     "text": [
      "133.7 KBs is used by: /home/sezai/repos/learning/src/chapter3_exercises.ipynb\n",
      "83.34 KBs is used by: /home/sezai/repos/learning/src/chapter1_exercises.ipynb\n",
      "3.641 KBs is used by: /home/sezai/repos/learning/src/recap_01-objects-funtions-decorators.py\n",
      "2.815 KBs is used by: /home/sezai/repos/learning/src/learning_py_cont02.py\n",
      "10.76 KBs is used by: /home/sezai/repos/learning/src/recap_08-listslicing-iterations.py\n",
      "194.1 KBs is used by: /home/sezai/repos/learning/src/chapter2_exercises.ipynb\n",
      "5.485 KBs is used by: /home/sezai/repos/learning/src/recap_04-arrays-list-tuples-strings.py\n",
      "11.06 KBs is used by: /home/sezai/repos/learning/src/recap_10-dict-get-switchcasewithdicts.py\n",
      "1.305 KBs is used by: /home/sezai/repos/learning/src/learning_py_cont.py\n",
      "0.3799 KBs is used by: /home/sezai/repos/learning/src/timetest.py\n",
      "0.6426 KBs is used by: /home/sezai/repos/learning/src/my_text.txt\n",
      "1.653 KBs is used by: /home/sezai/repos/learning/src/recap_03-dicts-maps-hastables.py\n",
      "4.941 KBs is used by: /home/sezai/repos/learning/src/recap_02-mutable-classmethods.py\n",
      "4.722 KBs is used by: /home/sezai/repos/learning/src/chapter4_exercises.ipynb\n",
      "7.532 KBs is used by: /home/sezai/repos/learning/src/sample_yolo.py\n",
      "10.62 KBs is used by: /home/sezai/repos/learning/src/recap_07-heapq-iteration-comprehension.py\n",
      "9.109 KBs is used by: /home/sezai/repos/learning/src/recap_06-sets-multisets-stacks-queues.py\n",
      "34.35 KBs is used by: /home/sezai/repos/learning/src/recap_11-boolsareints-dictupdate.py\n",
      "3.136 KBs is used by: /home/sezai/repos/learning/src/recap_05-why-care-immutables.py\n",
      "11.53 KBs is used by: /home/sezai/repos/learning/src/recap_09-generetors-simplified-iterators.py\n",
      "538.9 KBs is used by: /home/sezai/repos/learning/src\n"
     ]
    },
    {
     "data": {
      "text/plain": [
       "551814"
      ]
     },
     "execution_count": 22,
     "metadata": {},
     "output_type": "execute_result"
    }
   ],
   "source": [
    "import os\n",
    "\n",
    "def disk_usage(path):\n",
    "    \"\"\"Return the number of bytes used by a file/folder and any descendents.\"\"\"\n",
    "    \n",
    "    # if its a file, return its size\n",
    "    total = os.path.getsize(path)\n",
    "    if os.path.isdir(path):\n",
    "        for filename in os.listdir(path):\n",
    "            # One level down within the path\n",
    "            childpath =  os.path.join(path, filename)\n",
    "            # Recursively add the size of the child\n",
    "            total += disk_usage(childpath)\n",
    "    print(f\"{(total/1024):5.4} KBs is used by:\", path)\n",
    "    return total\n",
    "\n",
    "\n",
    "disk_usage(\"/home/sezai/repos/learning/src\")"
   ]
  },
  {
   "cell_type": "code",
   "execution_count": null,
   "metadata": {},
   "outputs": [],
   "source": [
    "# f string formatting with floats\n",
    "\n",
    "# f'{value:{width}.{precision}}'\n",
    "# where:\n",
    "\n",
    "# value is any expression that evaluates to a number\n",
    "\n",
    "# width specifies the number of characters used in total to display, but if value\n",
    "#  needs more space than the width specifies then the additional space is used.\n",
    "\n",
    "# precision indicates the number of characters used after the decimal point\n"
   ]
  },
  {
   "cell_type": "code",
   "execution_count": 27,
   "metadata": {},
   "outputs": [
    {
     "data": {
      "text/plain": [
       "9227465"
      ]
     },
     "execution_count": 27,
     "metadata": {},
     "output_type": "execute_result"
    }
   ],
   "source": [
    "def bad_fibonacci(n):\n",
    "    if n <= 1:\n",
    "        return n\n",
    "    else:\n",
    "        return bad_fibonacci(n-2) + bad_fibonacci(n-1)\n",
    "\n",
    "# Terrible runtime performance O(2^n)\n",
    "\n",
    "bad_fibonacci(35)\n",
    "# THis took 2.6 seconds to run"
   ]
  },
  {
   "cell_type": "code",
   "execution_count": 31,
   "metadata": {},
   "outputs": [
    {
     "data": {
      "text/plain": [
       "(9227465, 5702887)"
      ]
     },
     "execution_count": 31,
     "metadata": {},
     "output_type": "execute_result"
    }
   ],
   "source": [
    "def good_fibonacci(n):\n",
    "    \"\"\"Return a pair of fibonacci numbers\"\"\"\n",
    "    if n <= 1:\n",
    "        return (n, 0)\n",
    "    else:\n",
    "        a,b = good_fibonacci(n-1)\n",
    "        \n",
    "    return (a+b, a)\n",
    "\n",
    "good_fibonacci(35)\n",
    "\n",
    "# THis took 0.2 seconds to run"
   ]
  },
  {
   "cell_type": "code",
   "execution_count": 5,
   "metadata": {},
   "outputs": [],
   "source": [
    "# Maximum recursion depth in python is 1000 by default\n",
    "\n",
    "# if in or binary search algorithm, we mistakenly called the recursive function with the wrong parameters, suhc as\n",
    "# return binary_search(data, target, mid , high) \n",
    "\n",
    "# this would give a Runtime error: maximum recursion depth exceeded \n",
    "\n",
    "# For any reasonable sized problem, the recursive version of the algorithm will run out of stack space before it runs out of time\n",
    "# But we can change the maximum recursion depth by using \n",
    "# \n",
    "\n",
    "import sys\n",
    "old = sys.getrecursionlimit()\n",
    "sys.setrecursionlimit(1000)\n"
   ]
  },
  {
   "cell_type": "code",
   "execution_count": 6,
   "metadata": {},
   "outputs": [
    {
     "data": {
      "text/plain": [
       "1000"
      ]
     },
     "execution_count": 6,
     "metadata": {},
     "output_type": "execute_result"
    }
   ],
   "source": [
    "sys.getrecursionlimit()\n"
   ]
  },
  {
   "cell_type": "code",
   "execution_count": null,
   "metadata": {},
   "outputs": [],
   "source": [
    "# If a recursive call starts at most one other, we call this a linear recursion.\n",
    "# If a recursive call may start two others, we call this a binary recursion.\n",
    "# If a recursive call may start three or more others, this is multiple recursion.\n",
    "\n",
    "# Linear REcurison\n",
    "\n",
    "def linear_sum(S, n):\n",
    "    \"\"\"Return the sum of the first n numbers of sequence S.\"\"\"\n",
    "    if n == 0: \n",
    "        return 0\n",
    "    else:\n",
    "        return linear_sum(S, n-1) + S[n-1]\n",
    "\n",
    "# or\n",
    "\n",
    "def reverse(S, start, stop):\n",
    "    \"\"\"Reverse elements in implicit slice S[start:stop].\"\"\"\n",
    "    if start < stop - 1: # if at least 2 elements:\n",
    "        S[start], S[stop-1] = S[stop-1], S[start] # swap first and last\n",
    "        reverse(S, start+1, stop-1) # recur on rest"
   ]
  },
  {
   "cell_type": "code",
   "execution_count": 7,
   "metadata": {},
   "outputs": [],
   "source": [
    "# Recursive Algorithms for Computing Powers\n",
    "\n",
    "def power(x, n):\n",
    "    \"\"\"Compute the value x**n for integer n.\"\"\"\n",
    "    if n == 0:\n",
    "        return 1\n",
    "    else:\n",
    "        return x * power(x, n-1)\n",
    "\n",
    "# This is a linear recursion, because each recursive call makes at most one recursive call\n",
    "# We can do better in terms of time complexity by using a binary recursion\n",
    "\n",
    "def power(x,n):\n",
    "    \"\"\"Compute the value x**n for integer n.\"\"\"\n",
    "    if n == 0:\n",
    "        return 1\n",
    "    else:\n",
    "        partial = power(x, n//2) # rely on truncated division\n",
    "        result = partial * partial\n",
    "        if n % 2 == 1: # if n odd, include extra factor of x\n",
    "            result *= x\n",
    "        return result\n",
    "\n",
    "# we got to O(logn) time complexity"
   ]
  },
  {
   "cell_type": "code",
   "execution_count": null,
   "metadata": {},
   "outputs": [],
   "source": [
    "# Binary Recursion\n",
    "\n",
    "def binary_sum(S, start,stop):\n",
    "    \"\"\"Return the sum of the numbers in implicit slice S[start:stop].\"\"\"\n",
    "    if start >= stop :              # zero elements in slice\n",
    "        return 0\n",
    "    elif start == stop - 1:         # one element in slice\n",
    "        return S[start]\n",
    "    else:                           # two or more elements in slice\n",
    "        mid = (start + stop) // 2\n",
    "        return binary_sum(S, start,mid) + binary_sum(S,mid, stop)\n",
    "\n",
    "# Although binary sum has 2^n recursive calls, the time complexity is O(n) because at each call n is halved.\n",
    "# 2^(log2^n) = n\n",
    "#  "
   ]
  },
  {
   "cell_type": "code",
   "execution_count": 8,
   "metadata": {},
   "outputs": [],
   "source": [
    "# Multiple Recursion\n",
    "\n",
    "# A multiple recursion is one in which a recursive call may make more than two recursive calls\n",
    "# Looks like this\n",
    "\n",
    "# Algorithm PuzzleSolve(k,S,U):\n",
    "#   Input: An integer k, sequence S, and set U\n",
    "#   Output: An enumeration of all k-length extensions to S using elements in U\n",
    "#       without repetitions\n",
    "#   for each e in U do\n",
    "#       Add e to the end of S\n",
    "#       Remove e from U {e is now being used}\n",
    "#       if k = =  1 then\n",
    "#           Test whether S is a configuration that solves the puzzle\n",
    "#           if S solves the puzzle then\n",
    "#           return “Solution found: ” S\n",
    "#       else\n",
    "#           PuzzleSolve(k−1,S,U) {a recursive call}\n",
    "#       Remove e from the end of S\n",
    "#       Add e back to U {e is now considered as unused}"
   ]
  },
  {
   "cell_type": "code",
   "execution_count": 9,
   "metadata": {},
   "outputs": [],
   "source": [
    "# Designing Recursive Algorithms\n",
    "\n",
    "# In general, an algorithm that uses recursion typically has the following form:\n",
    "\n",
    "# •Test for base cases. We begin by testing for a set of base cases (there should\n",
    "# be at least one). These base cases should be defined so that every possible\n",
    "# chain of recursive calls will eventually reach a base case, and the handling of\n",
    "# each base case should not use recursion.\n",
    "\n",
    "# •Recur. If not a base case, we perform one or more recursive calls. This recur-\n",
    "# sive step may involve a test that decides which of several possible recursive\n",
    "# calls to make. We should define each possible recursive call so that it makes\n",
    "# progress towards a base case.\n",
    "\n",
    "# MAKE SURE YOUR FUNCTION SIGNATURE IS READY TO BE CALLED OVER AND OVER\n",
    "\n",
    "# A successful recursive design sometimes requires that we redefine the original\n",
    "# problem to facilitate similar-looking subproblems. Often, this involved reparameterizing\n",
    "#  the signature of the function. For example, when performing a binary\n",
    "# search in a sequence, a natural function signature for a caller would appear as\n",
    "# binary search(data, target). However, in Section 4.1.3, we defined our function\n",
    "# with calling signature binary search(data, target, low, high), using the additional\n",
    "# parameters to demarcate sublists as the recursion proceeds. This change in parameterization\n",
    "#  is critical for binary search. \n",
    "# \n",
    "# If we had insisted on the cleaner signature,\n",
    "# binary search(data, target), the only way to invoke a search on half the list would\n",
    "# have been to make a new list instance with only those elements to send as the first\n",
    "# parameter. However, making a copy of half the list would already take O(n) time,\n",
    "# negating the whole benefit of the binary search algorithm.\n",
    "# \n",
    "# If we wished to provide a cleaner public interface to an algorithm like binary search,\n",
    "#  without bothering a user with the extra parameters, a standard technique is\n",
    "#  to make one function for public use with the cleaner interface, such as\n",
    "# binary search(data, target), and then having its body invoke a nonpublic utility\n",
    "# function having the desired recursive parameters.\n",
    "# \n",
    "# You will see that we similarly reparameterized the recursion in several other examples\n",
    "#  of this chapter (e.g., reverse, linear sum, binary sum). We saw a different\n",
    "# approach to redefining a recursion in our good fibonacci implementation, by intentionally\n",
    "#  strengthening the expectation of what is returned (in that case, returning a pair of numbers rather than a single number)."
   ]
  },
  {
   "cell_type": "code",
   "execution_count": null,
   "metadata": {},
   "outputs": [],
   "source": [
    "# Eliminating Tail Recursion\n",
    "\n",
    "# We can use Stacks to minimize the space used by a recursive algorithm\n",
    "# Instead of waiting the Python Interpreter to keep track of the recursive calls, we can do it ourselves\n",
    "# This will be in CHapter 6\n",
    "\n",
    "# Even better, some forms of recursion can be eliminated without any use of axillary memory.\n",
    "\n",
    "# A recursion is a tail recursion if any recursive call that is made from one context is the very\n",
    "# last operation in that context, with the return value of the recursive call (if any)\n",
    "# immediately returned by the enclosing recursion.\n",
    "\n",
    "\n",
    "# HEre is a non recursive version of the binary_search\n",
    "\n",
    "def binary_search_iterative(data, target):\n",
    "    \"\"\"Return True if target is found in the given Python list.\"\"\"\n",
    "    low = 0\n",
    "    high = len(data)-1\n",
    "    while low <= high: \n",
    "        mid = (low + high) // 2\n",
    "        if target == data[mid]: # found a match\n",
    "            return True\n",
    "        elif target < data[mid]:\n",
    "            high = mid -1 # only consider values left of mid\n",
    "        else:\n",
    "            low = mid + 1 # only consider values right of mid\n",
    "    return False # loop ended without success\n",
    "\n",
    "# we simply replace high = mid −1 in our new version and then continue to the\n",
    "# next iteration of the loop. Our original base case condition of low > high has\n",
    "# simply been replaced by the opposite loop condition while low <= high . In our\n",
    "# new implementation, we return False to designate a failed search if the while loop\n",
    "# ends (that is, without having ever returned True from within).\n",
    "\n",
    "# Also a non recursive, two pointer approach to reversing\n",
    "\n",
    "def reverse_iterative(S):\n",
    "    \"\"\"Reverse elements in sequence S.\"\"\"\n",
    "    start, stop = 0, len(S)\n",
    "    while start < stop -1:\n",
    "        S[start], S[stop-1] = S[stop-1], S[start] # swap first and last\n",
    "        start, stop = start + 1, stop -1 # narrow the range"
   ]
  },
  {
   "cell_type": "code",
   "execution_count": 10,
   "metadata": {},
   "outputs": [],
   "source": [
    "# R-4.1\n",
    "#  Describe a recursive algorithm for finding the maximum element in a \n",
    "# sequence, S, of n elements. What is your running time and space usage?\n",
    "\n",
    "# max() takes constant time to compare two elements 0(1)\n",
    "\n",
    "def max_element(S):\n",
    "    if len(S) == 1:\n",
    "        return S[0]\n",
    "    else:\n",
    "        return max(S[0], max_element(S[1:]))\n",
    "\n",
    "# In the worst-case scenario, where the input list S has n elements, the function performs\n",
    "#  a recursive call for each element in the list except the last one. In each\n",
    "#  recursive call, the size of the list is reduced by 1. Therefore, the total \n",
    "# number of recursive calls is n - 1.\n",
    "# \n",
    "# In each recursive call, the function compares two elements using the\n",
    "#  max function. Since max takes constant time to compare two elements, the time \n",
    "# complexity of the function can be expressed as the number of comparisons made.\n",
    "# \n",
    "# The number of comparisons made is equal to the number of recursive calls, which \n",
    "# is n - 1 in this case. Therefore, the time complexity of the function is O(n).\n",
    "# \n",
    "# Regarding space complexity, the function utilizes space on the call stack\n",
    "#  for each recursive call. In the worst-case scenario, where the recursion reaches \n",
    "# the base case (len(S) == 1), the maximum depth of the call stack will be n. Hence, the \n",
    "# space complexity of the function is O(n).\n",
    "# \n",
    "# In summary:\n",
    "# \n",
    "# Time complexity: O(n)\n",
    "# Space complexity: O(n)"
   ]
  },
  {
   "cell_type": "code",
   "execution_count": 11,
   "metadata": {},
   "outputs": [
    {
     "data": {
      "text/plain": [
       "32"
      ]
     },
     "execution_count": 11,
     "metadata": {},
     "output_type": "execute_result"
    }
   ],
   "source": [
    "# R-4.2 \n",
    "# Draw the recursion trace for the computation of power(2, 5), using the \n",
    "# traditional function implemented in Code Fragment 4.11.\n",
    "\n",
    "def power(x, n):\n",
    "\n",
    "    if n == 0:\n",
    "        return 1\n",
    "    else:\n",
    "        return x * power(x, n-1)\n",
    "\n",
    "power(2, 5)\n",
    "#     -> return 2 * power(2, 4)\n",
    "#             -> return 2 * power(2, 3)\n",
    "#                     -> return 2 * power(2, 2)\n",
    "#                             -> return 2 * power(2, 1)\n",
    "#                                     -> return 2 * power(2, 0)\n",
    "#                                             -> return 1 (base case: n = 0)\n",
    "#                                     -> return 2 * 1 = 2\n",
    "#                             -> return 2 * 2 = 4\n",
    "#                     -> return 2 * 4 = 8\n",
    "#             -> return 2 * 8 = 16\n",
    "#     -> return 2 * 16 = 32\n",
    "\n"
   ]
  },
  {
   "cell_type": "code",
   "execution_count": 13,
   "metadata": {},
   "outputs": [
    {
     "data": {
      "text/plain": [
       "262144"
      ]
     },
     "execution_count": 13,
     "metadata": {},
     "output_type": "execute_result"
    }
   ],
   "source": [
    "# R-4.3 \n",
    "# Draw the recursion trace for the computation of power(2, 18), using the \n",
    "# repeated squaring algorithm, as implemented in Code Fragment 4.12.\n",
    "\n",
    "def power(x, n):\n",
    "    \"\"\"Compute the value x**n for integer n.\"\"\"\n",
    "    if n == 0:\n",
    "        return 1\n",
    "    else:\n",
    "        partial = power(x, n // 2)\n",
    "        result = partial * partial\n",
    "        if n % 2 == 1:\n",
    "            result *= x\n",
    "        return result\n",
    "\n",
    "# Now let's go through the recursion trace for the computation of power(2, 18):\n",
    "\n",
    "# Initially, we call power(2, 18).\n",
    "# Since n is not zero, we proceed to the else block.\n",
    "\n",
    "# We calculate partial = power(2, 18 // 2), which is partial = power(2, 9).\n",
    "# Another recursive call is made to power(2, 9).\n",
    "\n",
    "# Again, n is not zero, so we calculate partial = power(2, 9 // 2), which is partial = power(2, 4).\n",
    "# We make another recursive call to power(2, 4).\n",
    "# n is still not zero, so we calculate partial = power(2, 4 // 2), which is partial = power(2, 2).\n",
    "# Another recursive call is made to power(2, 2).\n",
    "# n is not zero, so we calculate partial = power(2, 2 // 2), which is partial = power(2, 1).\n",
    "# We make another recursive call to power(2, 1).\n",
    "# n is not zero, so we calculate partial = power(2, 1 // 2), which is partial = power(2, 0).\n",
    "# We make the final recursive call to power(2, 0).\n",
    "# The base case is satisfied (n == 0), so we return 1.\n",
    "\n",
    "# The previous recursive call power(2, 1) multiplies partial (which is 1) by x, resulting in 2.\n",
    "# The next recursive call power(2, 2) multiplies partial (which is 2) by itself, resulting in 4.\n",
    "# We continue unwinding the recursive calls, performing the necessary multiplications until we reach the initial call.\n",
    "# The initial call power(2, 18) multiplies partial (which is 4) by itself, resulting in 16.\n",
    "# Since 18 % 2 == 0, no additional multiplication by x is required.\n",
    "# The final result is 16.\n",
    "\n",
    "power(2, 18)\n",
    "\n",
    "#   -> partial = power(2, 9)\n",
    "#       -> partial = power(2, 4)\n",
    "#           -> partial = power(2, 2)\n",
    "#               -> partial = power(2, 1)\n",
    "#                   -> partial = power(2, 0)\n",
    "#                       -> 1 (base case)\n",
    "#                   -> 2 * 1\n",
    "#               -> 2 * 2\n",
    "#           -> 4 * 4\n",
    "#       -> 16 * 16\n",
    "#   -> 256\n",
    "\n"
   ]
  },
  {
   "cell_type": "code",
   "execution_count": 15,
   "metadata": {},
   "outputs": [
    {
     "data": {
      "text/plain": [
       "[6, 2, 6, 3, 4]"
      ]
     },
     "execution_count": 15,
     "metadata": {},
     "output_type": "execute_result"
    }
   ],
   "source": [
    "# R-4.4 \n",
    "# Draw the recursion trace for the execution of function reverse(S, 0, 5)\n",
    "# (Code Fragment 4.10) on  S = [4, 3, 6, 2, 6]\n",
    "\n",
    "S = [4, 3, 6, 2, 6]\n",
    "\n",
    "def reverse(S, start, stop):\n",
    "    \"\"\"Reverse elements in implicit slice S[start:stop].\"\"\"\n",
    "    if start < stop - 1:\n",
    "        S[start], S[stop-1] = S[stop-1], S[start]  # swap first and last\n",
    "        reverse(S, start+1, stop-1)\n",
    "\n",
    "# Now let's go through the recursion trace for the execution of reverse(S, 0, 5) on S = [4, 3, 6, 2, 6]:\n",
    "\n",
    "# Initially, we call reverse(S, 0, 5).\n",
    "# The condition start < stop - 1 is satisfied (0 < 5 - 1), so we proceed to the swap operation.\n",
    "# The first and last elements are swapped, resulting in S = [6, 3, 6, 2, 4].\n",
    "# We make a recursive call to reverse(S, 1, 4).\n",
    "# Again, the condition start < stop - 1 is satisfied (1 < 4 - 1), so we swap the first and last elements of the slice S[1:4].\n",
    "# After the swap, S = [6, 2, 6, 3, 4].\n",
    "# Another recursive call is made to reverse(S, 2, 3).\n",
    "# Since start is no longer less than stop - 1 (2 < 3 - 1 is false), the function returns without further recursion.\n",
    "# The function unwinds, and the initial call to reverse(S, 0, 5) completes.\n",
    "\n",
    "reverse(S, 0, 5)\n",
    "\n",
    "#   -> Swap S[0] and S[4]  # S = [6, 3, 6, 2, 4]\n",
    "#   -> reverse(S, 1, 4)\n",
    "#       -> Swap S[1] and S[3]  # S = [6, 2, 6, 3, 4]\n",
    "#       -> reverse(S, 2, 3)\n",
    "#           # No further recursion, returns\n",
    "#       # Returns to previous recursive call\n",
    "#   # Returns to initial call\n",
    "\n",
    "S"
   ]
  },
  {
   "cell_type": "code",
   "execution_count": 16,
   "metadata": {},
   "outputs": [],
   "source": [
    "#  R-4.5\n",
    "#  Draw the recursion trace for the execution of function PuzzleSolve(3, S,U )\n",
    "# (Code Fragment 4.14), where S is empty and U = {a, b, c, d}.\n",
    "\n",
    "# To draw the recursion trace for the execution of the PuzzleSolve function with PuzzleSolve(3, S, U) using \n",
    "# Code Fragment 4.14, where S is empty and U = {'a', 'b', 'c', 'd'}, we'll refer to\n",
    "#  the provided code. Here's the function implementation for reference:\n",
    "\n",
    "def PuzzleSolve(k, S, U):\n",
    "    if k == 1:\n",
    "        for e in U:\n",
    "            S.append(e)\n",
    "            if solves_puzzle(S):\n",
    "                return \"Solution found: \" + str(S)\n",
    "            S.pop()\n",
    "        return\n",
    "    \n",
    "    for e in U:\n",
    "        S.append(e)\n",
    "        U.remove(e)\n",
    "        PuzzleSolve(k - 1, S, U)\n",
    "        U.add(e)\n",
    "        S.pop()\n",
    "\n",
    "def solves_puzzle(S):\n",
    "    # Implement your puzzle-solving logic here\n",
    "    # Return True if S solves the puzzle, otherwise False\n",
    "    # Modify this function according to your specific puzzle requirements\n",
    "    return False\n",
    "\n",
    "# Now let's go through the recursion trace for the execution of PuzzleSolve(3, S, U) with S empty and U = {'a', 'b', 'c', 'd'}:\n",
    "\n",
    "# Initially, we call PuzzleSolve(3, S, U).\n",
    "# The value of k is not equal to 1, so we move to the for loop.\n",
    "\n",
    "# The first iteration selects 'a' from U.\n",
    "#   S becomes ['a'].\n",
    "#   'a' is removed from U.\n",
    "#   We make a recursive call to PuzzleSolve(2, S, U).\n",
    "\n",
    "# Inside the recursive call:\n",
    "#   The value of k is not equal to 1, so we move to the for loop.\n",
    "#   The first iteration selects 'a' from U.\n",
    "#       S becomes ['a', 'a'].\n",
    "#       'a' is removed from U.\n",
    "#       We make another recursive call to PuzzleSolve(1, S, U).\n",
    "\n",
    "# Inside the second recursive call:\n",
    "#   The value of k is 1, so we enter the base case.\n",
    "#   We iterate over the elements in U (only 'a' is left).\n",
    "#       S becomes ['a', 'a', 'a'].\n",
    "#       We check if solves_puzzle(S) returns True.\n",
    "#       Since we haven't defined solves_puzzle in the code, the result is not a solution, so we continue.\n",
    "#   We unwind the recursive call, remove 'a' from S, and add it back to U.\n",
    "#   The first recursive call continues to the second iteration of the for loop.\n",
    "#   The second iteration selects 'b' from U.\n",
    "#       S becomes ['a', 'b'].\n",
    "#       'b' is removed from U.\n",
    "#       We make another recursive call to PuzzleSolve(1, S, U).\n",
    "\n",
    "# Inside the third recursive call:\n",
    "#   The value of k is 1, so we enter the base case.\n",
    "#   We iterate over the elements in U (only 'b' is left).\n",
    "#       S becomes ['a', 'b', 'b'].\n",
    "#       We check if solves_puzzle(S) returns True.\n",
    "#       Since we haven't defined solves_puzzle in the code, the result is not a solution, so we continue.\n",
    "#   We unwind the recursive call, remove 'b' from S, and add it back to U.\n",
    "#   The first recursive call continues to the third iteration of the for loop.\n",
    "#   The third iteration selects 'c' from U.\n",
    "#       S becomes ['a', 'c'].\n",
    "#       'c' is removed from U.\n",
    "#       We make another recursive call to PuzzleSolve(1, S, U).\n",
    "\n",
    "# Inside the fourth recursive call:\n",
    "#   The value of k is 1, so we enter the base case.\n",
    "#   We iterate over the elements in U (only 'c' is left).\n",
    "#       S becomes ['a', 'c', 'c'].\n",
    "#       We check if solves_puzzle(S) returns True.\n",
    "#       Since we haven't defined solves_puzzle in the code, the result is not a solution, so we continue.\n",
    "#   We unwind the recursive call, remove 'c' from S, and add it back to U.\n",
    "#   The first recursive call continues to the fourth and final iteration of the for loop.\n",
    "#   The fourth iteration selects 'd' from U.\n",
    "#       S becomes ['a', 'd'].\n",
    "#       'd' is removed from U.\n",
    "#       We make another recursive call to PuzzleSolve(1, S, U).\n",
    "\n",
    "# Inside the fifth recursive call:\n",
    "#   The value of k is 1, so we enter the base case.\n",
    "#   We iterate over the elements in U (only 'd' is left).\n",
    "#       S becomes ['a', 'd', 'd'].\n",
    "#       We check if solves_puzzle(S) returns True.\n",
    "#       Since we haven't defined solves_puzzle in the code, the result is not a solution, so we continue.\n",
    "#   We unwind the recursive call, remove 'd' from S, and add it back to U.\n",
    "#   The first recursive call completes the iterations of the for loop.\n",
    "#   We unwind the recursive call, remove 'a' from S, and add it back to U.\n",
    "\n",
    "# The initial call completes the iterations of the for loop.\n",
    "# The function execution ends.\n",
    "\n",
    "# The recursion trace can be summarized as follows:\n",
    " \n",
    "PuzzleSolve(3, [], {'a', 'b', 'c', 'd'})\n",
    "#   -> 'a' selected from U\n",
    "#     -> PuzzleSolve(2, ['a'], {'b', 'c', 'd'})\n",
    "#       -> 'a' selected from U\n",
    "#         -> PuzzleSolve(1, ['a', 'a'], {'c', 'd'})\n",
    "#           -> Base case: Check 'a', 'a', 'a' for solution\n",
    "#           -> Remove 'a' from S, add it back to U\n",
    "#         -> 'b' selected from U\n",
    "#           -> PuzzleSolve(1, ['a', 'b'], {'c', 'd'})\n",
    "#             -> Base case: Check 'a', 'b', 'b' for solution\n",
    "#             -> Remove 'b' from S, add it back to U\n",
    "#         -> 'c' selected from U\n",
    "#           -> PuzzleSolve(1, ['a', 'c'], {'c', 'd'})\n",
    "#             -> Base case: Check 'a', 'c', 'c' for solution\n",
    "#             -> Remove 'c' from S, add it back\n"
   ]
  },
  {
   "cell_type": "code",
   "execution_count": 18,
   "metadata": {},
   "outputs": [
    {
     "data": {
      "text/plain": [
       "2.283333333333333"
      ]
     },
     "execution_count": 18,
     "metadata": {},
     "output_type": "execute_result"
    }
   ],
   "source": [
    "# R-4.6 \n",
    "# Describe a recursive function for computing the nth Harmonic number,\n",
    "# Hn = ∑ni=1 1/i.\n",
    "\n",
    "def harmonic(n):\n",
    "    if n == 1:\n",
    "        return 1\n",
    "    else:\n",
    "        return 1/n + harmonic(n-1)\n",
    "\n",
    "# Recursion trace\n",
    "# \n",
    "harmonic(5)\n",
    "#   -> 1/5 + harmonic_number(4)\n",
    "#     -> 1/4 + harmonic_number(3)\n",
    "#       -> 1/3 + harmonic_number(2)\n",
    "#         -> 1/2 + harmonic_number(1)\n",
    "#           -> Base case: return 1\n",
    "#         -> 1/2 + 1\n",
    "#       -> 1/3 + 3/2\n",
    "#     -> 1/4 + 5/3\n",
    "#   -> 1/5 + 19/12\n",
    "#   -> 39/20\n",
    " "
   ]
  },
  {
   "cell_type": "code",
   "execution_count": 27,
   "metadata": {},
   "outputs": [
    {
     "data": {
      "text/plain": [
       "52555"
      ]
     },
     "execution_count": 27,
     "metadata": {},
     "output_type": "execute_result"
    }
   ],
   "source": [
    "# R-4.7\n",
    "#  Describe a recursive function for converting a string of digits into the \n",
    "# integer it represents. For example, 13531 represents the integer 13531.\n",
    "\n",
    "def string_to_integer(string):\n",
    "    if len(string) == 1:\n",
    "        return int(string)\n",
    "    else:\n",
    "        return int(string[0]) * 10**(len(string)-1)  + string_to_integer(string[1:])\n",
    "\n",
    "string_to_integer(\"52555\")"
   ]
  },
  {
   "cell_type": "code",
   "execution_count": null,
   "metadata": {},
   "outputs": [],
   "source": [
    "# R-4.8 \n",
    "# Isabel has an interesting way of summing up the values in a sequence A of\n",
    "# n integers, where n is a power of two. She creates a new sequence B of half\n",
    "# the size of A and sets B[i] = A[2i] + A[2i + 1], for i = 0, 1, . . . , (n/2) −1. \n",
    "# If B has size 1, then she outputs B[0]. Otherwise, she replaces A with B, and \n",
    "# repeats the process. What is the running time of her algorithm?\n",
    "\n",
    "def isabelle_sum(A):\n",
    "    if len(A) == 1:\n",
    "        return A[0]\n",
    "    else:\n",
    "        B = []\n",
    "        for i in range(len(A)//2):\n",
    "            B.append(A[2*i] + A[2*i+1])\n",
    "        return isabelle_sum(B)\n",
    "\n",
    "\n",
    "# Let's analyze the running time of each iteration. In each iteration, Isabel performs\n",
    "#  n/2 additions to compute the values of B[i] = A[2i] + A[2i + 1]. Therefore, the\n",
    "#  running time of each iteration is O(n/2).\n",
    "\n",
    "# The number of iterations can be determined by the number of times we can\n",
    "#  divide n by 2 until we reach 1. Since n is a power of two, it can be\n",
    "#  expressed as n = 2^k, where k is the number of iterations required to reach size 1.\n",
    "\n",
    "# To find k, we can solve the equation n = 2^k for k:\n",
    "# 2^k = n\n",
    "# Taking the logarithm base 2 of both sides:\n",
    "# k = log2(n)\n",
    "\n",
    "# Hence, the number of iterations is log2(n). As each iteration takes O(n/2) time, the total running time of Isabel's algorithm can be expressed as:\n",
    "\n",
    "# O(n/2) + O(n/4) + O(n/8) + ... + O(1)\n",
    "\n",
    "# Using the properties of geometric series, we can simplify the expression:\n",
    "\n",
    "# O(n/2 + n/4 + n/8 + ... + 1)\n",
    "# O(n(1/2 + 1/4 + 1/8 + ... + 1/n) )\n",
    "\n",
    "# The sum 1/2 + 1/4 + 1/8 + ... + 1/n is a convergent series and can be bounded by a constant.\n",
    "#  Therefore, we can approximate the running time as:\n",
    "\n",
    "# O(n)\n",
    "\n",
    "# In conclusion, the running time of Isabel's algorithm is O(n), where n is the size of the input sequence A.\n"
   ]
  },
  {
   "cell_type": "code",
   "execution_count": 7,
   "metadata": {},
   "outputs": [
    {
     "data": {
      "text/plain": [
       "(1, 6)"
      ]
     },
     "execution_count": 7,
     "metadata": {},
     "output_type": "execute_result"
    }
   ],
   "source": [
    "# C-4.9 \n",
    "# Write a short recursive Python function that finds the minimum \n",
    "# and maximum values in a sequence without using any loops.\n",
    "\n",
    "def min_max(A):\n",
    "    # base case\n",
    "    if len(A) == 1:\n",
    "        return A[0], A[0]\n",
    "    else:\n",
    "        # slice of the seq\n",
    "        min_, max_ = min_max(A[1:])\n",
    "        # recurring with comperison\n",
    "        # min max both o(1) as they only compare 2 values\n",
    "        return min(A[0], min_), max(A[0], max_)\n",
    "\n",
    "\n",
    "min_max([1,2,3,4,5,6])"
   ]
  },
  {
   "cell_type": "code",
   "execution_count": 8,
   "metadata": {},
   "outputs": [
    {
     "data": {
      "text/plain": [
       "2"
      ]
     },
     "execution_count": 8,
     "metadata": {},
     "output_type": "execute_result"
    }
   ],
   "source": [
    "# C-4.10 \n",
    "# Describe a recursive algorithm to compute the integer part of the base-two\n",
    "# logarithm of n using only addition and integer division.\n",
    "\n",
    "def log_2_recursive(n):\n",
    "    if n == 1:\n",
    "        return 0\n",
    "    else:\n",
    "        return 1 + log_2_recursive(n//2)\n",
    "\n",
    "log_2_recursive(5)"
   ]
  },
  {
   "cell_type": "code",
   "execution_count": 13,
   "metadata": {},
   "outputs": [
    {
     "name": "stdout",
     "output_type": "stream",
     "text": [
      "THIS should bve false False\n",
      "This should be true: True\n"
     ]
    }
   ],
   "source": [
    "# C-4.11 \n",
    "# Describe an efficient recursive function for solving the element uniqueness\n",
    "#  problem, which runs in time that is at most O(n^2) in the worst case\n",
    "# without using sorting.\n",
    "\n",
    "def unique(A):\n",
    "    if len(A) == 1:\n",
    "        return True\n",
    "    else:\n",
    "        # check if first element is in the rest of the list\n",
    "        if A[0] in A[1:]:\n",
    "            return False\n",
    "        else:\n",
    "            return unique(A[1:])\n",
    "\n",
    "\n",
    "print(F\"THIS should be false {unique([1,2,3,45,45])}\")\n",
    "\n",
    "print(\"This should be true:\",unique([1,2,3,4,5]))"
   ]
  },
  {
   "cell_type": "code",
   "execution_count": 3,
   "metadata": {},
   "outputs": [
    {
     "data": {
      "text/plain": [
       "54"
      ]
     },
     "execution_count": 3,
     "metadata": {},
     "output_type": "execute_result"
    }
   ],
   "source": [
    "# C-4.12 \n",
    "# Give a recursive algorithm to compute the product of two positive integers,\n",
    "# m and n, using only addition and subtraction.\n",
    "\n",
    "\n",
    "def dot_product(a, b):\n",
    "    if a == 0 or b == 0:\n",
    "        return 0\n",
    "    else:\n",
    "        return a + dot_product(a, b-1)\n",
    "\n",
    "dot_product(6,9)"
   ]
  },
  {
   "cell_type": "code",
   "execution_count": null,
   "metadata": {},
   "outputs": [],
   "source": [
    "# C-4.13 \n",
    "# In Section 4.2 we prove by induction that the number of lines printed by\n",
    "# a call to draw interval(c) is 2c −1. Another interesting question is how\n",
    "# many dashes are printed during that process. Prove by induction that the\n",
    "# number of dashes printed by draw interval(c) is 2^(c+1) - c - 2\n",
    "\n",
    "\n",
    "# To prove by induction that the number of dashes printed \n",
    "# by draw_interval(c) is 2^(c+1) - c - 2, we need to establish two conditions:\n",
    "\n",
    "# Base Case: Show that the formula holds for the smallest value of c. In this case, c = 1.\n",
    "# For c = 1, the number of dashes printed should be 2(1) + 1 - 1 - 2 = 2 - 1 - 2 = -1. \n",
    "# However, since the number of dashes cannot \n",
    "# be negative, we can see that for c = 1, there are no dashes printed. The base case holds.\n",
    "\n",
    "# Inductive Step: Assume that the formula holds for c = k, and show that it \n",
    "# also holds for c = k + 1.\n",
    "# Let's assume that the number of dashes printed by draw_interval(k) is 2k+1 - k - 2.\n",
    "\n",
    "# Now, let's consider draw_interval(k + 1):\n",
    "\n",
    "# draw_interval(k + 1) calls draw_interval(k) twice and prints two additional dashes.\n",
    "\n",
    "# The number of dashes printed by draw_interval(k + 1) would be the sum of the number\n",
    "#  of dashes printed by draw_interval(k) twice, plus two additional dashes:\n",
    "\n",
    "# 2 * (2k+1 - k - 2) + 2\n",
    "\n",
    "# Simplifying this expression:\n",
    "\n",
    "# 4k + 2 - 2k - 4 + 2\n",
    "\n",
    "# 2k + 1\n",
    "\n",
    "# Which is equal to 2(k + 1) + 1 - (k + 1) - 2.\n",
    "\n",
    "# Therefore, the formula holds for c = k + 1.\n",
    "\n",
    "# By satisfying the base case and proving the inductive step, we have\n",
    "#  established that the number of dashes printed by draw_interval(c) is\n",
    "#  indeed 2c+1 - c - 2 for any positive integer c using induction."
   ]
  },
  {
   "cell_type": "code",
   "execution_count": 13,
   "metadata": {},
   "outputs": [
    {
     "name": "stdout",
     "output_type": "stream",
     "text": [
      "Move disk 1 from A to C\n",
      "Move disk 2 from A to B\n",
      "Move disk 1 from C to B\n",
      "Move disk 3 from A to C\n",
      "Move disk 1 from B to A\n",
      "Move disk 2 from B to C\n",
      "Move disk 1 from A to C\n"
     ]
    }
   ],
   "source": [
    "# C-4.14 \n",
    "# In the Towers of Hanoi puzzle, we are given a platform with three pegs, a,\n",
    "# b, and c, sticking out of it. On peg a is a stack of n disks, each larger than\n",
    "# the next, so that the smallest is on the top and the largest is on the bottom.\n",
    "# The puzzle is to move all the disks from peg a to peg c, moving one disk\n",
    "# at a time, so that we never place a larger disk on top of a smaller one.\n",
    "# See Figure 4.15 for an example of the case n = 4. Describe a recursive\n",
    "# algorithm for solving the Towers of Hanoi puzzle for arbitrary n. (Hint: \n",
    "# Consider first the subproblem of moving all but the nth disk from peg a to\n",
    "# another peg using the third as “temporary storage.”)\n",
    "\n",
    "\n",
    "def hanoi_towers(n, source, temp, dest):\n",
    "    \"\"\" Towers of HAnoi, recursive solution.\n",
    "\n",
    "    Args:\n",
    "        n: The number of disks to be moved.\n",
    "        source: The source peg where the disks are initially stacked.\n",
    "        temp: The temporary storage peg used during the movement of disks.\n",
    "        dest: The destination peg where the disks should be moved.\n",
    "        \"\"\"\n",
    "    # base case, just end the recursion\n",
    "    if n == 1:\n",
    "        print(f\"Move disk 1 from {source} to {dest}\")\n",
    "    # recursive case\n",
    "    else:\n",
    "        # we have to move n-1 disks from source to temp, using dest \n",
    "        # as a temporary storage\n",
    "        hanoi_towers(n-1, source, dest, temp)\n",
    "        # move the last disk from source to dest\n",
    "        print(f\"Move disk {n} from {source} to {dest}\")\n",
    "        hanoi_towers(n-1, temp, source, dest)\n",
    "\n",
    "hanoi_towers(3, 'A', 'B', 'C')"
   ]
  },
  {
   "cell_type": "code",
   "execution_count": 18,
   "metadata": {},
   "outputs": [
    {
     "data": {
      "text/plain": [
       "[[1, 2, 4, 6],\n",
       " [1, 2, 4],\n",
       " [1, 2, 6],\n",
       " [1, 2],\n",
       " [1, 4, 6],\n",
       " [1, 4],\n",
       " [1, 6],\n",
       " [1],\n",
       " [2, 4, 6],\n",
       " [2, 4],\n",
       " [2, 6],\n",
       " [2],\n",
       " [4, 6],\n",
       " [4],\n",
       " [6],\n",
       " []]"
      ]
     },
     "execution_count": 18,
     "metadata": {},
     "output_type": "execute_result"
    }
   ],
   "source": [
    "# C-4.15 \n",
    "# Write a recursive function that will output all the subsets of\n",
    "#  a set of n elements (without repeating any subsets).\n",
    "\n",
    "def subsets(seq):\n",
    "    if len(seq) == 0:\n",
    "        return [[]]\n",
    "    else:\n",
    "        # get all subsets without the first element\n",
    "        subsets_without_first = subsets(seq[1:])\n",
    "        # get all subsets with the first element\n",
    "        subsets_with_first = [[seq[0]] + subset for subset in subsets_without_first]\n",
    "        # return all subsets\n",
    "        return subsets_with_first + subsets_without_first\n",
    "\n",
    "subsets([1,2,4,6]) "
   ]
  },
  {
   "cell_type": "code",
   "execution_count": 19,
   "metadata": {},
   "outputs": [
    {
     "data": {
      "text/plain": [
       "'snap&stop'"
      ]
     },
     "execution_count": 19,
     "metadata": {},
     "output_type": "execute_result"
    }
   ],
   "source": [
    "# C-4.16\n",
    "#  Write a short recursive Python function that takes a character string s and\n",
    "# outputs its reverse. For example, the reverse of pots&pans would be\n",
    "# snap&stop \n",
    "\n",
    "def reverse_string(s):\n",
    "    # base case, only one character\n",
    "    if len(s) == 1:\n",
    "        return s\n",
    "    # recursive case, call the function with the start of the string\n",
    "    else:\n",
    "        return reverse_string(s[1:]) + s[0]\n",
    "\n",
    "\n",
    "reverse_string(\"pots&pans\")"
   ]
  },
  {
   "cell_type": "code",
   "execution_count": 15,
   "metadata": {},
   "outputs": [
    {
     "data": {
      "text/plain": [
       "True"
      ]
     },
     "execution_count": 15,
     "metadata": {},
     "output_type": "execute_result"
    }
   ],
   "source": [
    "# C-4.17\n",
    "#  Write a short recursive Python function that determines if a string s is a\n",
    "# palindrome, that is, it is equal to its reverse. For example, racecar and\n",
    "# gohangasalamiimalasagnahog are palindromes.\n",
    "\n",
    "def palindrome(s, reverse):\n",
    "    if len(s) == 1:\n",
    "        return True\n",
    "    else:\n",
    "        if s[0] == s[-1]:\n",
    "            return palindrome(s[1:-1], s[0] + s[-1])\n",
    "        else:\n",
    "            return False\n",
    "\n",
    "# palindrome(\"racecar\", \"\")\n",
    "\n",
    "# This works but we dont even use the reverse parameter\n",
    "\n",
    "# Here is something better\n",
    "\n",
    "def better_palindrome(s):\n",
    "    if len(s) <= 1:\n",
    "        return True\n",
    "    else:\n",
    "        if s[0] == s[-1]:\n",
    "            return better_palindrome(s[1:-1])\n",
    "\n",
    "better_palindrome(\"racecar\")\n",
    "\n",
    "# here is the takeaway\n",
    "\n",
    "# when you are writing a recursive function, you should always think about\n",
    "# the base case and the recursive case. The base case is the case where\n",
    "# the function should stop calling itself. The recursive case is the case\n",
    "# where the function should call itself again.\n",
    "\n",
    "# Think about how you would approach the problem, what is the first / last step"
   ]
  },
  {
   "cell_type": "code",
   "execution_count": 40,
   "metadata": {},
   "outputs": [
    {
     "data": {
      "text/plain": [
       "True"
      ]
     },
     "execution_count": 40,
     "metadata": {},
     "output_type": "execute_result"
    }
   ],
   "source": [
    "# C-4.18 \n",
    "# Use recursion to write a Python function for determining if a string s has\n",
    "# more vowels than consonants\n",
    "\n",
    "def count_vowels(s):\n",
    "    vowels = ['a', 'e', 'i', 'o', 'u']\n",
    "    count = 0\n",
    "    if s:\n",
    "        if s[0].lower() in vowels:\n",
    "            count = 1 + count_vowels(s[1:])\n",
    "        else:\n",
    "            count = -1 + count_vowels(s[1:])\n",
    "    return count\n",
    "\n",
    "def has_more_vowels(s):\n",
    "    count = count_vowels(s)\n",
    "    return count > 0\n",
    "\n",
    "# This is just like the book suggested.\n",
    "\n",
    "count_vowels(\"abb\")\n",
    "\n",
    "# here is a more efficient solution\n",
    "# just count the vowels and consonants and compare them\n",
    "\n",
    "def has_more_vowels(s):\n",
    "    vowels = ['a', 'e', 'i', 'o', 'u']\n",
    "    consonants = ['b', 'c', 'd', 'f', 'g', 'h', 'j', 'k', 'l', \n",
    "    'm', 'n', 'p', 'q', 'r', 's', 't', 'v', 'w', 'x', 'y', 'z']\n",
    "\n",
    "    vowel_count = 0\n",
    "    consonant_count = 0\n",
    "\n",
    "    for char in s.lower():\n",
    "        if char in vowels:\n",
    "            vowel_count += 1\n",
    "        elif char in consonants:\n",
    "            consonant_count += 1\n",
    "\n",
    "    return vowel_count > consonant_count\n",
    "\n",
    "has_more_vowels(\"aaabb\")"
   ]
  },
  {
   "cell_type": "code",
   "execution_count": 7,
   "metadata": {},
   "outputs": [
    {
     "data": {
      "text/plain": [
       "[2, 2, 2, 2, 2, 2, 4, 33, 3]"
      ]
     },
     "execution_count": 7,
     "metadata": {},
     "output_type": "execute_result"
    }
   ],
   "source": [
    "# C-4.19 \n",
    "# Write a short recursive Python function that rearranges a sequence of \n",
    "# integer values so that all the even values appear before all the odd values.\n",
    "\n",
    "# Left here..\n",
    "\n",
    "def rearrange(seq):\n",
    "    if len(seq) <= 1:\n",
    "        return seq\n",
    "    else:\n",
    "        if seq[0] % 2 == 0:\n",
    "            return [seq[0]] +  rearrange(seq[1:])\n",
    "        else:\n",
    "            return rearrange(seq[1:]) + [seq[0]]\n",
    "\n",
    "rearrange([2,2,2,3,2,2,2,33,4])"
   ]
  },
  {
   "cell_type": "code",
   "execution_count": 8,
   "metadata": {},
   "outputs": [
    {
     "data": {
      "text/plain": [
       "[4, 5, 8, 12]"
      ]
     },
     "execution_count": 8,
     "metadata": {},
     "output_type": "execute_result"
    }
   ],
   "source": [
    "# C-4.20 \n",
    "# Given an unsorted sequence, S, of integers and an integer k, describe a\n",
    "# recursive algorithm for rearranging the elements in S so that all elements\n",
    "# less than or equal to k come before any elements larger than k. What is \n",
    "# the running time of your algorithm on a sequence of n values?\n",
    "\n",
    "# k is basically middle point\n",
    "def rearrange_by_middle_point(seq, k):\n",
    "    if len(seq) <= 1: \n",
    "        return seq\n",
    "    else: # [10,2], 6\n",
    "        if seq[0] <= k:\n",
    "            return [seq[0]] + rearrange_by_middle_point(seq[1:], k)\n",
    "        else:\n",
    "            return rearrange_by_middle_point(seq[1:], k) + [seq[0]]\n",
    "\n",
    "rearrange_by_middle_point([12,4,5,8], 6)\n",
    "\n",
    "# o (n) beacuse there will be n + 1 activations and 0(1) operations on each call"
   ]
  },
  {
   "cell_type": "code",
   "execution_count": 22,
   "metadata": {},
   "outputs": [
    {
     "data": {
      "text/plain": [
       "True"
      ]
     },
     "execution_count": 22,
     "metadata": {},
     "output_type": "execute_result"
    }
   ],
   "source": [
    "# C-4.21 \n",
    "# Suppose you are given an n-element sequence, S, containing distinct integers\n",
    "#  that are listed in increasing order. Given a number k, describe a\n",
    "# recursive algorithm to find two integers in S that sum to k, if such a pair\n",
    "# exists. What is the running time of your algorithm?\n",
    "\n",
    "def find_sum(seq, sum):\n",
    "    if len(seq) <= 1: \n",
    "        return False\n",
    "    else: # [1,2,3,4] 7\n",
    "        for i in range(1, len(seq)):\n",
    "            if seq[0] + seq[i] == sum:\n",
    "                return True\n",
    "        return find_sum(seq[1:], sum)\n",
    "\n",
    "find_sum([7,2,3,4], 9)\n",
    "\n",
    "\n",
    "# The running time of the algorithm is O(n), where n is the length of the sequence. \n",
    "# This is because the algorithm only needs to scan the sequence once, and each element in the sequence is only processed once.\n",
    "\n",
    "# Here is a breakdown of the running time of the algorithm:\n",
    "\n",
    "# The first if statement takes O(1) time.\n",
    "# The for loop takes O(n) time, since it iterates through all of the elements in the sequence.\n",
    "# The inner if statement takes O(1) time.\n",
    "# The recursive call takes O(n) time, since it calls the function on the rest of the sequence.\n",
    "# The total running time of the algorithm is O(1) + O(n) + O(1) + O(n) = O(n).\n",
    "\n"
   ]
  },
  {
   "cell_type": "code",
   "execution_count": 27,
   "metadata": {},
   "outputs": [
    {
     "name": "stdout",
     "output_type": "stream",
     "text": [
      "64\n",
      "81\n"
     ]
    }
   ],
   "source": [
    "# C-4.22\n",
    "#  Develop a nonrecursive implementation of the version of power from\n",
    "# Code Fragment 4.12 that uses repeated squaring.\n",
    "\n",
    "# here is 4.12\n",
    "def power(x, n):\n",
    "    \"\"\"Compute the value x**n for integer n.\"\"\"\n",
    "    if n == 0:\n",
    "        return 1\n",
    "    else:\n",
    "        partial = power(x, n // 2)\n",
    "        result = partial * partial\n",
    "        if n % 2 == 1:\n",
    "            result *= x\n",
    "        return result\n",
    "\n",
    "\n",
    "\n",
    "\n",
    "# here is the non recursive version\n",
    "\n",
    "# this is true but not using repeated squaring\n",
    "# it just keeps multiplying x by itself n times\n",
    "def iterative_multiplication_power(x,n):\n",
    "    # base case \n",
    "    result = 1\n",
    "    # iteration\n",
    "    # 2^4 = 2 * 2 * 2 * 2\n",
    "    while n>0:\n",
    "        result *= x\n",
    "        n -= 1\n",
    "    return result\n",
    "\n",
    "# this is the repeated squaring version\n",
    "def iterative_repeated_square_power(x, n):\n",
    "    # kinda like base case\n",
    "    result = 1\n",
    "    # iteration\n",
    "    # 2^6 = 2 * 2 * 2 * 2 * 2 * 2\n",
    "    while n > 0:\n",
    "\n",
    "        if n % 2 == 1:\n",
    "            result *= x\n",
    "        x *= x\n",
    "        n //= 2\n",
    "\n",
    "    return result\n",
    "\n",
    "\n",
    "print(iterative_repeated_square_power(2,6))\n",
    "print(iterative_repeated_square_power(3,4))"
   ]
  },
  {
   "cell_type": "code",
   "execution_count": 4,
   "metadata": {},
   "outputs": [
    {
     "name": "stdout",
     "output_type": "stream",
     "text": [
      "/home/sezai/test/test3/text.txt\n",
      "/home/sezai/test/test2/text.txt\n"
     ]
    }
   ],
   "source": [
    "# P-4.23 \n",
    "# Implement a recursive function with signature find(path, filename) that\n",
    "# reports all entries of the file system rooted at the given path having the\n",
    "# given file name.\n",
    "\n",
    "import os\n",
    "\n",
    "def find(path,filename):\n",
    "    \n",
    "    if os.path.isfile(os.path.join(path,filename)):\n",
    "        print(os.path.join(path,filename))\n",
    "    else:\n",
    "        for child in os.listdir(path):\n",
    "            new_path = os.path.join(path,child)\n",
    "            find(new_path, filename)\n",
    "\n",
    "# The function works as follows:\n",
    "\n",
    "# If the path is a file and the file name matches the given \n",
    "# file name, then the function prints the path and returns.\n",
    "\n",
    "# Otherwise, the function recursively calls itself on each child of the path.\n",
    "\n",
    "# The function terminates when it reaches a file that matches the given\n",
    "#  file name, or when it reaches a path that has no children.\n",
    "\n",
    "find(\"/home/sezai/test\", \"text.txt\")"
   ]
  },
  {
   "cell_type": "code",
   "execution_count": null,
   "metadata": {},
   "outputs": [],
   "source": [
    "# P-4.25 \n",
    "# Provide a nonrecursive implementation of the draw interval function for\n",
    "# the English ruler project of Section 4.1.2. There should be precisely 2c −1\n",
    "# lines of output if c represents the length of the center tick. If incrementing\n",
    "# a counter from 0 to 2c −2, the number of dashes for each tick line should\n",
    "# be exactly one more than the number of consecutive 1’s at the end of the\n",
    "# binary representation of the counter.\n",
    "\n",
    "# LEFT HERE"
   ]
  },
  {
   "cell_type": "code",
   "execution_count": null,
   "metadata": {},
   "outputs": [],
   "source": []
  }
 ],
 "metadata": {
  "kernelspec": {
   "display_name": "Python 3.8.16 ('api_tryout')",
   "language": "python",
   "name": "python3"
  },
  "language_info": {
   "codemirror_mode": {
    "name": "ipython",
    "version": 3
   },
   "file_extension": ".py",
   "mimetype": "text/x-python",
   "name": "python",
   "nbconvert_exporter": "python",
   "pygments_lexer": "ipython3",
   "version": "3.8.16"
  },
  "orig_nbformat": 4,
  "vscode": {
   "interpreter": {
    "hash": "5c91247f238ffe20a81ff6d7bbd78e8b7013835d5efca94aed45fabb2c8c2521"
   }
  }
 },
 "nbformat": 4,
 "nbformat_minor": 2
}
