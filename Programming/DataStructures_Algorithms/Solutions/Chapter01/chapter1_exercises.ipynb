{
 "cells": [
  {
   "cell_type": "code",
   "execution_count": 5,
   "metadata": {},
   "outputs": [],
   "source": [
    "# R-1.1\n",
    "\n",
    "# Write a short Python function, is multiple(n, m), that takes two integer\n",
    "# values and returns True if n is a multiple of m, that is, n = mi for some\n",
    "# integer i, and False otherwise.\n",
    "\n",
    "def is_multiple(n,m):\n",
    "    # true division is only sinle slash = a KATANA\n",
    "    if n % m == 0:\n",
    "        return True\n",
    "    else:\n",
    "        return False\n",
    "\n",
    "\n",
    "def is_multiple_small(n,m):\n",
    "    return True if n % m == 0 else False"
   ]
  },
  {
   "cell_type": "code",
   "execution_count": 17,
   "metadata": {},
   "outputs": [
    {
     "data": {
      "text/plain": [
       "True"
      ]
     },
     "execution_count": 17,
     "metadata": {},
     "output_type": "execute_result"
    }
   ],
   "source": [
    "# R-1.2 \n",
    "# Write a short Python function, is even(k), that takes an integer value and\n",
    "# returns True if k is even, and False otherwise. However, your function\n",
    "# cannot use the multiplication, modulo, or division operators.\n",
    "\n",
    "# This is a bitwise trick.\n",
    "# If xor with 1 increments a number by one, its a even number => 14 ^ 1 = 15 ( 1110 ^ 0001 = 1111)\n",
    "# decrements a number by 1 if its a odd number\n",
    "def is_even(k):\n",
    "    assert isinstance (k, int), \"number has to be integer\"\n",
    "    return True if (k ^ 1 == k + 1)  else False\n"
   ]
  },
  {
   "cell_type": "code",
   "execution_count": 21,
   "metadata": {},
   "outputs": [
    {
     "data": {
      "text/plain": [
       "(1, 12312)"
      ]
     },
     "execution_count": 21,
     "metadata": {},
     "output_type": "execute_result"
    }
   ],
   "source": [
    "# R-1.3 \n",
    "# Write a short Python function, minmax(data), that takes a sequence of\n",
    "# one or more numbers, and returns the smallest and largest numbers, in the\n",
    "# form of a tuple of length two. Do not use the built-in functions min or\n",
    "# max in implementing your solution.\n",
    "\n",
    "def minmax(data):\n",
    "    \n",
    "    if len(data) == 1:\n",
    "        return (data[0], data[0])\n",
    "    else:\n",
    "        # Assume the starting point is min and max. Technically it is.\n",
    "        min_element = data[0]\n",
    "        max_element = data[0]\n",
    "        for element in data:\n",
    "            if element < min_element:\n",
    "                min_element = element\n",
    "            if element > max_element:\n",
    "                max_element = element\n",
    "        return (min_element, max_element)\n",
    "\n",
    "def minmax_cheat(data):\n",
    "    return (min(data), max(data))\n",
    "\n",
    "\n",
    "minmax([1,2,3,4,5,6,8,12312,2])"
   ]
  },
  {
   "cell_type": "code",
   "execution_count": 31,
   "metadata": {},
   "outputs": [
    {
     "data": {
      "text/plain": [
       "55"
      ]
     },
     "execution_count": 31,
     "metadata": {},
     "output_type": "execute_result"
    }
   ],
   "source": [
    "# R-1.4 \n",
    "# Write a short Python function that takes a positive integer n and returns\n",
    "# the sum of the squares of all the positive integers smaller than n.\n",
    "\n",
    "def smaller_sum(n):\n",
    "    assert isinstance(n, int), \"n must be an integer\"\n",
    "    result = 0\n",
    "    for i in range(1,n):\n",
    "        result += i * i\n",
    "    return result"
   ]
  },
  {
   "cell_type": "code",
   "execution_count": 42,
   "metadata": {},
   "outputs": [
    {
     "data": {
      "text/plain": [
       "55"
      ]
     },
     "execution_count": 42,
     "metadata": {},
     "output_type": "execute_result"
    }
   ],
   "source": [
    "# R-1.5 \n",
    "# Give a single command that computes the sum from \n",
    "# Exercise R-1.4, relying on Python’s comprehension syntax and the built-in sum function.\n",
    "\n",
    "def smaller_sum_oneline(n):\n",
    "    assert isinstance(n, int), \"n must be an integer\"\n",
    "    return sum([element * element for element in range(1,n)]) "
   ]
  },
  {
   "cell_type": "code",
   "execution_count": null,
   "metadata": {},
   "outputs": [],
   "source": []
  }
 ],
 "metadata": {
  "kernelspec": {
   "display_name": "Python 3.8.12 ('api_tryout')",
   "language": "python",
   "name": "python3"
  },
  "language_info": {
   "codemirror_mode": {
    "name": "ipython",
    "version": 3
   },
   "file_extension": ".py",
   "mimetype": "text/x-python",
   "name": "python",
   "nbconvert_exporter": "python",
   "pygments_lexer": "ipython3",
   "version": "3.8.16"
  },
  "orig_nbformat": 4,
  "vscode": {
   "interpreter": {
    "hash": "5c91247f238ffe20a81ff6d7bbd78e8b7013835d5efca94aed45fabb2c8c2521"
   }
  }
 },
 "nbformat": 4,
 "nbformat_minor": 2
}
