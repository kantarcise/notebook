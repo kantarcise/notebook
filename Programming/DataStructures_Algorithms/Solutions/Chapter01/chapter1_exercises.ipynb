{
 "cells": [
  {
   "cell_type": "code",
   "execution_count": 72,
   "metadata": {},
   "outputs": [],
   "source": [
    "# R-1.1\n",
    "\n",
    "# Write a short Python function, is multiple(n, m), that takes two integer\n",
    "# values and returns True if n is a multiple of m, that is, n = mi for some\n",
    "# integer i, and False otherwise.\n",
    "\n",
    "def is_multiple(n,m):\n",
    "    # true division is only sinle slash = a KATANA\n",
    "    if n % m == 0:\n",
    "        return True\n",
    "    else:\n",
    "        return False\n",
    "\n",
    "\n",
    "def is_multiple_small(n,m):\n",
    "    return True if n % m == 0 else False"
   ]
  },
  {
   "cell_type": "code",
   "execution_count": 73,
   "metadata": {},
   "outputs": [],
   "source": [
    "# R-1.2 \n",
    "# Write a short Python function, is even(k), that takes an integer value and\n",
    "# returns True if k is even, and False otherwise. However, your function\n",
    "# cannot use the multiplication, modulo, or division operators.\n",
    "\n",
    "# This is a bitwise trick.\n",
    "# If xor with 1 increments a number by one, its a even number => 14 ^ 1 = 15 ( 1110 ^ 0001 = 1111)\n",
    "# decrements a number by 1 if its a odd number\n",
    "def is_even(k):\n",
    "    assert isinstance (k, int), \"number has to be integer\"\n",
    "    return True if (k ^ 1 == k + 1)  else False\n"
   ]
  },
  {
   "cell_type": "code",
   "execution_count": 74,
   "metadata": {},
   "outputs": [
    {
     "data": {
      "text/plain": [
       "(1, 12312)"
      ]
     },
     "execution_count": 74,
     "metadata": {},
     "output_type": "execute_result"
    }
   ],
   "source": [
    "# R-1.3 \n",
    "# Write a short Python function, minmax(data), that takes a sequence of\n",
    "# one or more numbers, and returns the smallest and largest numbers, in the\n",
    "# form of a tuple of length two. Do not use the built-in functions min or\n",
    "# max in implementing your solution.\n",
    "\n",
    "def minmax(data):\n",
    "    \n",
    "    if len(data) == 1:\n",
    "        return (data[0], data[0])\n",
    "    else:\n",
    "        # Assume the starting point is min and max. Technically it is.\n",
    "        min_element = data[0]\n",
    "        max_element = data[0]\n",
    "        for element in data:\n",
    "            if element < min_element:\n",
    "                min_element = element\n",
    "            if element > max_element:\n",
    "                max_element = element\n",
    "        return (min_element, max_element)\n",
    "\n",
    "def minmax_cheat(data):\n",
    "    return (min(data), max(data))\n",
    "\n",
    "\n",
    "minmax([1,2,3,4,5,6,8,12312,2])"
   ]
  },
  {
   "cell_type": "code",
   "execution_count": 75,
   "metadata": {},
   "outputs": [],
   "source": [
    "# R-1.4 \n",
    "# Write a short Python function that takes a positive integer n and returns\n",
    "# the sum of the squares of all the positive integers smaller than n.\n",
    "\n",
    "def smaller_sum(n):\n",
    "    assert isinstance(n, int), \"n must be an integer\"\n",
    "    result = 0\n",
    "    for i in range(1,n):\n",
    "        result += i * i\n",
    "    return result"
   ]
  },
  {
   "cell_type": "code",
   "execution_count": 76,
   "metadata": {},
   "outputs": [],
   "source": [
    "# R-1.5 \n",
    "# Give a single command that computes the sum from \n",
    "# Exercise R-1.4, relying on Python’s comprehension syntax and the built-in sum function.\n",
    "\n",
    "def smaller_sum_oneline(n):\n",
    "    assert isinstance(n, int), \"n must be an integer\"\n",
    "    return sum([element * element for element in range(1,n)]) "
   ]
  },
  {
   "cell_type": "code",
   "execution_count": 77,
   "metadata": {},
   "outputs": [
    {
     "data": {
      "text/plain": [
       "10"
      ]
     },
     "execution_count": 77,
     "metadata": {},
     "output_type": "execute_result"
    }
   ],
   "source": [
    "# R-1.6 \n",
    "# Write a short Python function that takes a positive integer n and returns\n",
    "# the sum of the squares of all the odd positive integers smaller than n\n",
    "\n",
    "def sum_square_off_odd_integer(n):\n",
    "    \"\"\"Returns the sum of the squares of all the odd positive integers\n",
    "\n",
    "    Args:\n",
    "        n (int): the number\n",
    "    \"\"\"\n",
    "    assert n > 0 , \"n must be positive\"\n",
    "    sum = 0\n",
    "    for i in range(1,n,2):\n",
    "        sum += i * i    \n",
    "    return sum\n",
    "\n",
    "sum_square_off_odd_integer(5)"
   ]
  },
  {
   "cell_type": "code",
   "execution_count": 78,
   "metadata": {},
   "outputs": [
    {
     "data": {
      "text/plain": [
       "ValueError('n must be positive')"
      ]
     },
     "execution_count": 78,
     "metadata": {},
     "output_type": "execute_result"
    }
   ],
   "source": [
    "# R-1.7 \n",
    "# Give a single command that computes the sum from \n",
    "# Exercise R-1.6, relying on Python’s comprehension syntax and the built-in sum function.\n",
    "\n",
    "def sum_square_short(n):\n",
    "    return sum([ n * n for n in range(n) if n % 2 == 1]) if n > 0 else ValueError(\"n must be positive\")\n",
    "\n",
    "sum_square_short(-4)\n"
   ]
  },
  {
   "cell_type": "code",
   "execution_count": 79,
   "metadata": {},
   "outputs": [],
   "source": [
    "# R-1.8\n",
    "#  Python allows negative integers to be used as indices into a sequence,\n",
    "# such as a string. If string s has length n, and expression s[k] is\n",
    "#  used for index −n ≤ k < 0, what is the equivalent index j ≥ 0 such that s[j] references\n",
    "# the same element?\n",
    "\n",
    "a_string = \"abcdef\"\n",
    "\n",
    "a_string[-3]\n",
    "# d\n",
    "\n",
    "a_string[3]\n",
    "# d\n",
    "\n",
    "# So the answer is j = n + k\n",
    "\n",
    "# let \n",
    "k = -2\n",
    "\n",
    "assert a_string[k] == a_string[len(a_string)+k]"
   ]
  },
  {
   "cell_type": "code",
   "execution_count": 80,
   "metadata": {},
   "outputs": [
    {
     "name": "stdout",
     "output_type": "stream",
     "text": [
      "50\n",
      "60\n",
      "70\n",
      "80\n"
     ]
    }
   ],
   "source": [
    "# R-1.9 What parameters should be sent to the range constructor, to produce a\n",
    "# range with values 50, 60, 70, 80?\n",
    "\n",
    "gen = range(50,81,10)\n",
    "\n",
    "for element in gen:\n",
    "    print(element)"
   ]
  },
  {
   "cell_type": "code",
   "execution_count": 81,
   "metadata": {},
   "outputs": [
    {
     "name": "stdout",
     "output_type": "stream",
     "text": [
      "8\n",
      "6\n",
      "4\n",
      "2\n",
      "0\n",
      "-2\n",
      "-4\n",
      "-6\n",
      "-8\n"
     ]
    }
   ],
   "source": [
    "# R-1.10 \n",
    "# What parameters should be sent to the range constructor, to produce a\n",
    "#range with values 8, 6, 4, 2, 0, −2, −4, −6, −8?\n",
    "\n",
    "gen = range(8,-9,-2)\n",
    "\n",
    "for i in gen:\n",
    "    print(i)\n"
   ]
  },
  {
   "cell_type": "code",
   "execution_count": 82,
   "metadata": {},
   "outputs": [],
   "source": [
    "# R-1.11\n",
    "#  Demonstrate how to use Python’s list comprehension syntax to produce\n",
    "# the list [1, 2, 4, 8, 16, 32, 64, 128, 256].\n",
    "\n",
    "my_list = [ pow(2,i) for i in range(9)]"
   ]
  },
  {
   "cell_type": "code",
   "execution_count": 83,
   "metadata": {},
   "outputs": [
    {
     "data": {
      "text/plain": [
       "60"
      ]
     },
     "execution_count": 83,
     "metadata": {},
     "output_type": "execute_result"
    }
   ],
   "source": [
    "# R-1.12 \n",
    "# Python’s random module includes a function choice(data) that returns a\n",
    "# random element from a non-empty sequence. The random module includes a more basic\n",
    "#  function randrange, with parameterization similar to\n",
    "# the built-in range function, that return a random choice from the given\n",
    "# range. Using only the randrange function, implement your own version\n",
    "# of the choice function.\n",
    "\n",
    "import random\n",
    "\n",
    "my_list = [10,20,30,40,50,60,70,80,90]\n",
    "\n",
    "random.choice(my_list)\n",
    "\n",
    "random.randrange(1,10)\n",
    "\n",
    "def my_choice_function(sequence,):\n",
    "    \"\"\" Return a random choice from a non-empty sequence using randrange.\n",
    "    \"\"\"\n",
    "    n = len(sequence)\n",
    "    choice = sequence[random.randrange(1,n)] \n",
    "    return choice\n",
    "\n",
    "my_choice_function(my_list)"
   ]
  },
  {
   "cell_type": "code",
   "execution_count": 84,
   "metadata": {},
   "outputs": [],
   "source": [
    "# C-1.13 \n",
    "# Write a pseudo-code description of a function that reverses a list of n\n",
    "# integers, so that the numbers are listed in the opposite order than they\n",
    "# were before, and compare this method to an equivalent Python function\n",
    "# for doing the same thing.\n",
    "\n",
    "# func reverse\n",
    "#     make a new list\n",
    "#     iterate over the list taken\n",
    "#         append every element of the list in the reverse order\n",
    "#     return the new list\n",
    "\n",
    "# OR\n",
    "# return list[::-1]\n",
    "\n",
    "# LOL"
   ]
  },
  {
   "cell_type": "code",
   "execution_count": 85,
   "metadata": {},
   "outputs": [
    {
     "data": {
      "text/plain": [
       "True"
      ]
     },
     "execution_count": 85,
     "metadata": {},
     "output_type": "execute_result"
    }
   ],
   "source": [
    "# C-1.14 \n",
    "# Write a short Python function that takes a sequence of integer values and\n",
    "# determines if there is a distinct pair of numbers in the sequence whose\n",
    "# product is odd.\n",
    "\n",
    "def find_distinct_pair(sequence) -> bool:\n",
    "    # we basically need to find two distinct odd numbers\n",
    "    odd_list = []\n",
    "    for element in sequence:\n",
    "        if element % 2 == 1:\n",
    "            odd_list.append(element)\n",
    "    if len(set((odd_list))) >= 2:\n",
    "        return True\n",
    "    else:\n",
    "        return False\n",
    "\n",
    "find_distinct_pair([1,3,1,1,1])"
   ]
  },
  {
   "cell_type": "code",
   "execution_count": 86,
   "metadata": {},
   "outputs": [
    {
     "data": {
      "text/plain": [
       "False"
      ]
     },
     "execution_count": 86,
     "metadata": {},
     "output_type": "execute_result"
    }
   ],
   "source": [
    "# C-1.15\n",
    "#  Write a Python function that takes a sequence of numbers and determines\n",
    "# if all the numbers are different from each other (that is, they are distinct).\n",
    "\n",
    "def distinct_sequence(sequence) -> bool:\n",
    "    return True if len(set(sequence)) == len (sequence) else False\n",
    "\n",
    "distinct_sequence([1,2,3,4,4])"
   ]
  },
  {
   "cell_type": "code",
   "execution_count": 87,
   "metadata": {},
   "outputs": [
    {
     "data": {
      "text/plain": [
       "[2, 4, 6, 8]"
      ]
     },
     "execution_count": 87,
     "metadata": {},
     "output_type": "execute_result"
    }
   ],
   "source": [
    "# C-1.16 \n",
    "# In our implementation of the scale function (page 25), the body of the loop\n",
    "# executes the command data[j] *= factor. We have discussed that numeric\n",
    "# types are immutable, and that use of the *= operator in this context causes\n",
    "# the creation of a new instance (not the mutation of an existing instance).\n",
    "# How is it still possible, then, that our implementation of scale changes the\n",
    "# actual parameter sent by the caller?\n",
    "\n",
    "def scale(data, factor):\n",
    "    for j in range(len(data)):\n",
    "        data[j] *= factor\n",
    "\n",
    "# Although numeric types like integers and floats are immutable, lists are mutable. In \n",
    "# the implementation of the scale function on page 25, the input data is assumed to be a list\n",
    "#  of numeric values. When the loop executes the statement data[j] = factor, it does not create \n",
    "# a new instance of the numeric value factor. Instead, it modifies the existing list data by setting \n",
    "# the value of the element at index j to the value of factor.\n",
    "\n",
    "# In other words, the = operator in this context is not creating a new instance of a numeric value, \n",
    "# but rather modifying an existing instance of a list. This means that the actual parameter sent by \n",
    "# the caller is indeed modified by the scale function.\n",
    "\n",
    "my_list = [1, 2, 3, 4]\n",
    "scale(my_list, 2)\n",
    "\n",
    "my_list"
   ]
  },
  {
   "cell_type": "code",
   "execution_count": 88,
   "metadata": {},
   "outputs": [
    {
     "data": {
      "text/plain": [
       "[1, 2, 3, 4]"
      ]
     },
     "execution_count": 88,
     "metadata": {},
     "output_type": "execute_result"
    }
   ],
   "source": [
    "# C-1.17 Had we implemented the scale function (page 25) as follows, does it work\n",
    "# properly?\n",
    "def scale(data, factor):\n",
    "    for val in data:\n",
    "        val *= factor\n",
    "\n",
    "# In this implementation, the loop variable val is assigned the value of the current \n",
    "# element in data. When the statement val *= factor is executed, it multiplies the value\n",
    "#  of val by factor, but it does not modify the actual element in data. Instead, it creates\n",
    "#  a new local variable val and assigns it the product of the current element and factor.\n",
    "#  This means that the actual list data is not modified, and the function has no effect\n",
    "#  on the input.\n",
    "\n",
    "my_list = [1, 2, 3, 4]\n",
    "scale(my_list, 2)\n",
    "\n",
    "my_list"
   ]
  },
  {
   "cell_type": "code",
   "execution_count": 89,
   "metadata": {},
   "outputs": [
    {
     "data": {
      "text/plain": [
       "[0, 2, 6, 12, 20, 30, 42, 56, 72, 90]"
      ]
     },
     "execution_count": 89,
     "metadata": {},
     "output_type": "execute_result"
    }
   ],
   "source": [
    "# C-1.18 \n",
    "# Demonstrate how to use Python’s list comprehension syntax to produce\n",
    "# the list [0, 2, 6, 12, 20, 30, 42, 56, 72, 90].\n",
    "\n",
    "my_list = [ x*(x+1) for x in (range(10))]\n",
    "my_list"
   ]
  },
  {
   "cell_type": "code",
   "execution_count": 90,
   "metadata": {},
   "outputs": [
    {
     "data": {
      "text/plain": [
       "['a',\n",
       " 'b',\n",
       " 'c',\n",
       " 'd',\n",
       " 'e',\n",
       " 'f',\n",
       " 'g',\n",
       " 'h',\n",
       " 'i',\n",
       " 'j',\n",
       " 'k',\n",
       " 'l',\n",
       " 'm',\n",
       " 'n',\n",
       " 'o',\n",
       " 'p',\n",
       " 'q',\n",
       " 'r',\n",
       " 's',\n",
       " 't',\n",
       " 'u',\n",
       " 'v',\n",
       " 'w',\n",
       " 'x',\n",
       " 'y']"
      ]
     },
     "execution_count": 90,
     "metadata": {},
     "output_type": "execute_result"
    }
   ],
   "source": [
    "# C-1.19 \n",
    "# Demonstrate how to use Python’s list comprehension syntax to produce\n",
    "# the list [ 'a', 'b' , 'c' , ..., 'z' ], but without having to type all 26 such\n",
    "# characters literally.\n",
    "\n",
    "char_list = [ str(chr(x)) for x in range(97,122)]\n",
    "char_list\n"
   ]
  },
  {
   "cell_type": "code",
   "execution_count": 91,
   "metadata": {},
   "outputs": [
    {
     "data": {
      "text/plain": [
       "[6, 2, 8, 3, 5, 7, 10, 4, 1, 9]"
      ]
     },
     "execution_count": 91,
     "metadata": {},
     "output_type": "execute_result"
    }
   ],
   "source": [
    "# C-1.20 \n",
    "# Python’s random module includes a function shuffle(data) that accepts a\n",
    "# list of elements and randomly reorders the elements so that each possible\n",
    "#  order occurs with equal probability. The random module includes a\n",
    "# more basic function randint(a, b) that returns a uniformly random integer\n",
    "# from a to b (including both endpoints). Using only the randint function,\n",
    "# implement your own version of the shuffle function\n",
    "\n",
    "import random\n",
    "\n",
    "def shuffle(data):\n",
    "    for i in range(len(data)-1, 0, -1):\n",
    "        j = random.randint(0, i)\n",
    "        data[i], data[j] = data[j], data[i]\n",
    "    return data\n",
    "\n",
    "# This implementation uses the Fisher-Yates shuffle algorithm. The basic idea\n",
    "#  is to iterate over the list backwards, swapping the current element with\n",
    "#  a randomly chosen element that comes before it in the list.\n",
    "#  By doing this for every element in the list, we ensure that every\n",
    "#  possible ordering of the elements has an equal probability of occurring.\n",
    "\n",
    "# In this implementation, we use the randint function to generate a random\n",
    "#  integer j between 0 and i, where i is the current index in the list we\n",
    "#  are iterating over. We then swap the current element at index i with the element\n",
    "#  at index j using tuple unpacking. Finally, we return the shuffled list.\n",
    "\n",
    "shuffle([1,2,3,4,5,6,7,8,9,10])"
   ]
  },
  {
   "cell_type": "code",
   "execution_count": null,
   "metadata": {},
   "outputs": [],
   "source": [
    "# C-1.21\n",
    "#  Write a Python program that repeatedly reads lines from standard input\n",
    "# until an EOFError is raised, and then outputs those lines in reverse order\n",
    "# (a user can indicate end of input by typing ctrl-D).\n",
    "\n",
    "def reverse_input():\n",
    "    my_list = []\n",
    "    try:\n",
    "        while True:\n",
    "            line = input()\n",
    "            my_list.append(line)\n",
    "    except EOFError:\n",
    "        print (my_list.reverse())\n",
    "\n",
    "reverse_input()"
   ]
  },
  {
   "cell_type": "code",
   "execution_count": 100,
   "metadata": {},
   "outputs": [
    {
     "data": {
      "text/plain": [
       "[1, 4, 9, 16]"
      ]
     },
     "execution_count": 100,
     "metadata": {},
     "output_type": "execute_result"
    }
   ],
   "source": [
    "# C-1.22\n",
    "#  Write a short Python program that takes two arrays a and b of length n\n",
    "# storing int values, and returns the dot product of a and b. That is, it returns\n",
    "# an array c of length n such that c[i] = a[i] · b[i], for i = 0,...,n−1.\n",
    "\n",
    "def return_special_array(a, b):\n",
    "    return [element[0] * element[1] for element in zip(a, b)]\n",
    "\n",
    "return_special_array([1,2,3,4], [1,2,3,4])\n",
    "\n",
    "# OR\n",
    "\n",
    "def dot_product(a, b):\n",
    "    c = [0] * len(a)\n",
    "    for i in range(len(a)):\n",
    "        c[i] = a[i] * b[i]\n",
    "    return c\n",
    "\n",
    "dot_product([1,2,3,4], [1,2,3,4])"
   ]
  },
  {
   "cell_type": "code",
   "execution_count": 104,
   "metadata": {},
   "outputs": [
    {
     "name": "stdout",
     "output_type": "stream",
     "text": [
      "Don’t try buffer overflow attacks in Python!\n"
     ]
    }
   ],
   "source": [
    "# C-1.23 \n",
    "# Give an example of a Python code fragment that attempts to write an element\n",
    "#  to a list based on an index that may be out of bounds. If that index\n",
    "# is out of bounds, the program should catch the exception that results, and\n",
    "# print the following error message:\n",
    "# “Don’t try buffer overflow attacks in Python!”\n",
    "\n",
    "my_list = [1,2,3,4,5,6]\n",
    "\n",
    "try:\n",
    "    my_list[len(my_list)+1] = 7\n",
    "except IndexError:\n",
    "    print(\"Don’t try buffer overflow attacks in Python!\")"
   ]
  },
  {
   "cell_type": "code",
   "execution_count": 110,
   "metadata": {},
   "outputs": [
    {
     "data": {
      "text/plain": [
       "3"
      ]
     },
     "execution_count": 110,
     "metadata": {},
     "output_type": "execute_result"
    }
   ],
   "source": [
    "# C-1.24 \n",
    "# Write a short Python function that counts the number of vowels in a given\n",
    "# character string.\n",
    "\n",
    "\n",
    "def count_vowels(s):\n",
    "    vowels = 'aeiouAEIOU'\n",
    "    count = 0\n",
    "    for char in s:\n",
    "        if char in vowels:\n",
    "            count += 1\n",
    "    return count\n",
    "    \n",
    "count_vowels(\"aaaaei\")"
   ]
  },
  {
   "cell_type": "code",
   "execution_count": 116,
   "metadata": {},
   "outputs": [
    {
     "data": {
      "text/plain": [
       "'Lets go Mike lets get it'"
      ]
     },
     "execution_count": 116,
     "metadata": {},
     "output_type": "execute_result"
    }
   ],
   "source": [
    "# C-1.25\n",
    "#  Write a short Python function that takes a string s, representing a sentence,\n",
    "# and returns a copy of the string with all punctuation removed. For\n",
    "#  example, if given the string \"Let's try, Mike.\", this function would return\n",
    "# \"Lets try Mike\".\n",
    "import string\n",
    "\n",
    "def remove_punctuation(s):\n",
    "    return s.translate(str.maketrans('', '', string.punctuation))\n",
    "\n",
    "remove_punctuation(\"Let's go, Mike`, let's get it!?\")"
   ]
  },
  {
   "cell_type": "code",
   "execution_count": 120,
   "metadata": {},
   "outputs": [
    {
     "data": {
      "text/plain": [
       "True"
      ]
     },
     "execution_count": 120,
     "metadata": {},
     "output_type": "execute_result"
    }
   ],
   "source": [
    "# C-1.26 \n",
    "# Write a short program that takes as input three integers, a, b, and c, from\n",
    "# the console and determines if they can be used in a correct arithmetic\n",
    "# formula (in the given order), like “a+b = c,” “a = b−c,” or “a ∗ b = c.”\n",
    "\n",
    "def check_valid_formula():\n",
    "    a = int(input(\"First number\"))\n",
    "    b = int(input(\"Second number\"))\n",
    "    c = int(input(\"Third number\"))\n",
    "\n",
    "    def can_add(a,b,c):\n",
    "        return True if a == b+c or b == a+c or c == a+b else False\n",
    "\n",
    "    def can_subtract(a,b,c):\n",
    "        return True if a == b - c or b == a - c or c == a - b else False\n",
    "\n",
    "    def can_multiply(a,b,c):\n",
    "        return True if a == b*c or b == a*c or c == a*b else False\n",
    "\n",
    "    def can_divide(a,b,c):\n",
    "        return True if a == b/c or b == a/c or c == a/b else False\n",
    "\n",
    "    def can_power(a,b,c):\n",
    "        return True if a == b**c or b == a**c or c == a**b else False\n",
    "\n",
    "    i = can_add(a,b,c)\n",
    "    j = can_subtract(a,b,c)\n",
    "    k = can_multiply(a,b,c)\n",
    "    l = can_divide(a,b,c)\n",
    "    m = can_power(a,b,c)\n",
    "    if i or j or k or l or m:\n",
    "        return True\n",
    "    else: \n",
    "        return False\n",
    "\n",
    "check_valid_formula()"
   ]
  },
  {
   "cell_type": "code",
   "execution_count": null,
   "metadata": {},
   "outputs": [],
   "source": [
    "# C-1.27 \n",
    "# In Section 1.8, we provided three different implementations of a generator\n",
    "# that computes factors of a given integer. The third of those implementations, from\n",
    "#  page 41, was the most efficient, but we noted that it did not\n",
    "# yield the factors in increasing order. Modify the generator so that it reports\n",
    "# factors in increasing order, while maintaining its general performance advantages\n",
    "\n",
    "# original implementation\n",
    "def factors(n): # generator that computes factors\n",
    "    k=1\n",
    "    while k * k < n: # while k < sqrt(n)\n",
    "        if n % k == 0:\n",
    "            yield k\n",
    "            yield n // k\n",
    "        k += 1\n",
    "    if k * k == n: # special case if n is perfect square  \n",
    "        yield k\n",
    "\n",
    "# for factor in factors(24):\n",
    "#     print(factor)\n",
    "\n",
    "def factors_increasing(n): # generator that computes factors\n",
    "    k = 1\n",
    "    while k * k < n: # while k < sqrt(n)\n",
    "        if n % k == 0:\n",
    "            yield k\n",
    "        k =+ 1\n",
    "    if k * k == n: # special case if n is perfect square\n",
    "        yield k\n",
    "    while k > 0:\n",
    "        if n % k == 0:\n",
    "            yield n // k \n",
    "        k +=1\n",
    "\n",
    "for factor in factors_increasing(24):\n",
    "    print(factor)"
   ]
  },
  {
   "cell_type": "code",
   "execution_count": null,
   "metadata": {},
   "outputs": [],
   "source": []
  }
 ],
 "metadata": {
  "kernelspec": {
   "display_name": "Python 3.8.12 ('api_tryout')",
   "language": "python",
   "name": "python3"
  },
  "language_info": {
   "codemirror_mode": {
    "name": "ipython",
    "version": 3
   },
   "file_extension": ".py",
   "mimetype": "text/x-python",
   "name": "python",
   "nbconvert_exporter": "python",
   "pygments_lexer": "ipython3",
   "version": "3.8.16"
  },
  "orig_nbformat": 4,
  "vscode": {
   "interpreter": {
    "hash": "5c91247f238ffe20a81ff6d7bbd78e8b7013835d5efca94aed45fabb2c8c2521"
   }
  }
 },
 "nbformat": 4,
 "nbformat_minor": 2
}
