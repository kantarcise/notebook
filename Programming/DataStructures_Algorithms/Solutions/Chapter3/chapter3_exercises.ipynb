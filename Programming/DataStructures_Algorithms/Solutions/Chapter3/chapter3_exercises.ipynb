{
 "cells": [
  {
   "cell_type": "code",
   "execution_count": 9,
   "metadata": {},
   "outputs": [
    {
     "name": "stdout",
     "output_type": "stream",
     "text": [
      "0.30813811299981353\n"
     ]
    }
   ],
   "source": [
    "# Experimental Studies\n",
    "\n",
    "# ALthough timeit is the best way. This is still bad.\n",
    "\n",
    "# Because:\n",
    "# 1) Software and hardware is changing \n",
    "# 2) You will have limited test input\n",
    "# 3) YOu have to finish an algorithm completely to time it.\n",
    "\n",
    "import timeit\n",
    "\n",
    "def complex_function():\n",
    "    # Your complex code goes here\n",
    "    # Perform the operations you want to time\n",
    "    for i in range(10000000):\n",
    "        i +=1\n",
    "\n",
    "# Measure the execution time of complex_function\n",
    "execution_time_func = timeit.timeit(complex_function, number=1)\n",
    "print(execution_time_func)"
   ]
  },
  {
   "cell_type": "code",
   "execution_count": null,
   "metadata": {},
   "outputs": [],
   "source": [
    "# A better way is to measure operations as a function of input size.\n",
    "\n",
    "# what is the time complexity of this function:\n",
    "\n",
    "def test():\n",
    "    a = 4\n",
    "    b = 2\n",
    "    return a + b\n",
    "\n",
    "# The time complexity of the test() function you provided is constant time or O(1).\n",
    "\n",
    "# In the function, there are only a few simple operations: assigning the values\n",
    "#  4 and 2 to variables a and b, respectively, and returning their sum a + b.\n",
    "#  These operations have a constant time complexity, meaning that the execution time of\n",
    "#  the function does not depend on the input size or any iterative or recursive processes.\n",
    "\n",
    "# Regardless of the magnitude of the values being added or the number of times the\n",
    "#  function is called, the time it takes to execute the function remains constant.\n",
    "\n"
   ]
  },
  {
   "cell_type": "code",
   "execution_count": 10,
   "metadata": {},
   "outputs": [],
   "source": [
    "# what is the time complexity of this function:\n",
    "\n",
    "def sum(a,b,c):\n",
    "    return a + b + c\n",
    "\n",
    "# The time complexity of the sum() function you provided is constant time or O(1).\n",
    "\n",
    "# The function sum(a, b, c) simply adds three numbers a, b, and c together and returns\n",
    "#  the sum. The addition operation itself is a constant time operation.\n",
    "\n",
    "# The time complexity of the function does not depend on the size of the inputs or involve any\n",
    "#  iterative or recursive processes. Regardless of the magnitude of the values being added\n",
    "#  or the number of times the function is called, the time it takes to execute the function remains constant."
   ]
  },
  {
   "cell_type": "code",
   "execution_count": 11,
   "metadata": {},
   "outputs": [],
   "source": [
    "# Here's an example of a Python function with logarithmic time complexity (O(log n)):\n",
    "\n",
    "def binary_search(arr, target):\n",
    "    left = 0\n",
    "    right = len(arr) - 1\n",
    "\n",
    "    while left <= right:\n",
    "        mid = (left + right) // 2\n",
    "\n",
    "        if arr[mid] == target:\n",
    "            return mid\n",
    "        elif arr[mid] < target:\n",
    "            left = mid + 1\n",
    "        else:\n",
    "            right = mid - 1\n",
    "\n",
    "    return -1\n",
    "\n",
    "# In this example, the binary_search() function performs a binary search on a sorted list arr\n",
    "#  to find the index of the target value. The function uses a while loop to repeatedly divide \n",
    "# the search space in half until the target is found or the search space is exhausted.\n",
    "\n",
    "# Binary search operates by comparing the middle element of the remaining search space with the \n",
    "# target value and narrowing down the search space accordingly. As a result, the number of elements\n",
    "#  to search reduces by half in each iteration, leading to logarithmic time complexity.\n",
    "\n",
    "# The time complexity of this function is O(log n), where n \n",
    "# represents the size of the input list arr."
   ]
  },
  {
   "cell_type": "code",
   "execution_count": null,
   "metadata": {},
   "outputs": [],
   "source": [
    "# what is the time complexity of this function:\n",
    "\n",
    "def loop_sum(count):\n",
    "    result = None\n",
    "    for i in range(count):\n",
    "        result += i\n",
    "    return result\n",
    "\n",
    "# The time complexity of the loop_sum() function you provided is linear or O(n), where n is the value of count.\n",
    "\n",
    "# In the function, a loop is performed count number of times. Within each iteration of the loop, the\n",
    "#  variable result is incremented by i. As the loop iterates count times, the time it takes\n",
    "#  to execute the function grows linearly with the value of count.\n",
    "\n",
    "# Therefore, the time complexity of the function is O(n), where n represents the input size or the value of count.\n"
   ]
  },
  {
   "cell_type": "code",
   "execution_count": 14,
   "metadata": {},
   "outputs": [
    {
     "name": "stdout",
     "output_type": "stream",
     "text": [
      "[1, 2, 4, 5, 6, 32]\n"
     ]
    }
   ],
   "source": [
    "# Here's an example of a Python function with a time complexity of O(n * log n):\n",
    "\n",
    "# o (n *(log n)) \n",
    "def merge_sort(arr):\n",
    "    if len(arr) <= 1:\n",
    "        return arr\n",
    "\n",
    "    # O(log (n))\n",
    "    mid = len(arr) // 2\n",
    "    left_half = arr[:mid]\n",
    "    right_half = arr[mid:]\n",
    "\n",
    "    left_half = merge_sort(left_half)\n",
    "    right_half = merge_sort(right_half)\n",
    "\n",
    "    # o(n)\n",
    "    return merge(left_half, right_half)\n",
    "\n",
    "\n",
    "def merge(left, right):\n",
    "    merged = []\n",
    "    i = 0\n",
    "    j = 0\n",
    "\n",
    "    # O(n)\n",
    "    while i < len(left) and j < len(right):\n",
    "        if left[i] <= right[j]:\n",
    "            merged.append(left[i])\n",
    "            i += 1\n",
    "        else:\n",
    "            merged.append(right[j])\n",
    "            j += 1\n",
    "\n",
    "    # O(n)\n",
    "    while i < len(left):\n",
    "        merged.append(left[i])\n",
    "        i += 1\n",
    "\n",
    "    # O(n)\n",
    "    while j < len(right):\n",
    "        merged.append(right[j])\n",
    "        j += 1\n",
    "\n",
    "    return merged\n",
    "\n",
    "# In this example, the merge_sort() function implements the merge sort algorithm to sort a list\n",
    "#  arr in ascending order. Merge sort is a divide-and-conquer algorithm that recursively divides \n",
    "# the input list into smaller sublists until they are trivially sorted, and then merges them back together.\n",
    "\n",
    "# The key insight in merge sort is that the merging step takes O(n) time for two sorted sublists\n",
    "#  of length n/2. Since the splitting process divides the input list into halves logarithmically (O(log n)), and\n",
    "#  each merge operation takes O(n) time, the overall time complexity of merge sort is O(n * log n).\n",
    "\n",
    "# --------------------------------------------------------------------------------------\n",
    "\n",
    "# MORE EXPLANATION ON merge() FUNCTION\n",
    "\n",
    "# The time complexity of the merge() function you provided is O(n), where \n",
    "# n represents the total number of elements in the input lists left and right.\n",
    "\n",
    "# In the function, there are three while loops: two loops to merge the\n",
    "#  elements from left and right, and one loop to handle any remaining elements if one of the lists is exhausted.\n",
    "\n",
    "# The merging process iterates through the elements of both lists once, comparing and\n",
    "#  appending them to the merged list in sorted order. The number of iterations\n",
    "#  in the while loops is directly proportional to the size of the input lists.\n",
    "\n",
    "# Since each iteration takes a constant amount of time to compare and append elements,\n",
    "#  the time complexity of the merging process is O(n), where n is the sum of the lengths of left and right.\n",
    "\n",
    "# Therefore, the overall time complexity of the merge() function is O(n), where n\n",
    "#  represents the total number of elements in left and right.\n",
    "\n",
    "# --------------------------------------------------------------------------------------\n",
    "\n",
    "# IN TOTAL:\n",
    "\n",
    "# Therefore, the merge_sort() function has a time complexity of O(n * log n), where\n",
    "#  n represents the size of the input list arr.\n",
    "\n",
    "a = [1,2,32,4,5,6]\n",
    "b = merge_sort(a)\n",
    "\n",
    "print(b)"
   ]
  },
  {
   "cell_type": "code",
   "execution_count": 15,
   "metadata": {},
   "outputs": [
    {
     "name": "stdout",
     "output_type": "stream",
     "text": [
      "[1, 2, 4, 5, 6, 32]\n"
     ]
    }
   ],
   "source": [
    "# PYTHONS DEFAULT SORTED FUNCTION IS ALSO N LOG N\n",
    "\n",
    "# The time complexity of the built-in Python sort() function is typically\n",
    "#  O(n log n) for average and worst-case scenarios, where n represents the number of elements being sorted.\n",
    "\n",
    "# The specific sorting algorithm used by Python's sort() function is \n",
    "# called Timsort, which is a hybrid sorting algorithm derived from merge sort and insertion sort. \n",
    "# Timsort is designed to perform well on many kinds of real-world data and takes advantage of existing order in partially ordered lists.\n",
    "\n",
    "# In the average and worst-case scenarios, Timsort has a time complexity of O(n log n). However, in the\n",
    "#  best-case scenario where the input list is already sorted, Timsort can achieve a time complexity of O(n).\n",
    "\n",
    "# It's important to note that the time complexity of the sort() function can vary depending\n",
    "#  on the specific implementation and the underlying data structure used. Nevertheless,\n",
    "#  in practice, Timsort is widely regarded as an efficient sorting algorithm with good performance characteristics for most use cases.\n",
    "\n",
    "a = [1,2,32,4,5,6]\n",
    "b = sorted(a)\n",
    "\n",
    "print(b)"
   ]
  },
  {
   "cell_type": "code",
   "execution_count": null,
   "metadata": {},
   "outputs": [],
   "source": [
    "# Here's an example of a Python function with a time complexity of O(n^2):\n",
    "\n",
    "def bubble_sort(arr):\n",
    "    n = len(arr)\n",
    "\n",
    "    for i in range(n):\n",
    "        for j in range(0, n - i - 1):\n",
    "            if arr[j] > arr[j + 1]:\n",
    "                arr[j], arr[j + 1] = arr[j + 1], arr[j]\n",
    "\n",
    "# In this example, the bubble_sort() function implements the bubble sort algorithm to sort\n",
    "#  a list arr in ascending order. Bubble sort repeatedly swaps adjacent elements\n",
    "#  if they are in the wrong order until the entire list is sorted.\n",
    "\n",
    "# The function uses two nested loops. The outer loop iterates n times, where n\n",
    "#  is the length of the list. The inner loop iterates from 0 to n - i - 1, where i represents\n",
    "#  the current iteration of the outer loop. This ensures that the largest \n",
    "# elements \"bubble\" up to the end of the list with each iteration.\n",
    "\n",
    "# Since both loops iterate up to the size of the input list, the time complexity\n",
    "#  is O(n * n), or O(n^2). As the number of elements increases, the number of iterations\n",
    "#  grows quadratically, resulting in a significant increase in the execution time.\n",
    "\n",
    "# It's worth noting that bubble sort has a higher time complexity compared to more efficient sorting\n",
    "#  algorithms like merge sort or quicksort. However, it serves as a good\n",
    "#  example for demonstrating a function with quadratic time complexity."
   ]
  },
  {
   "cell_type": "code",
   "execution_count": null,
   "metadata": {},
   "outputs": [],
   "source": [
    "# Yes, the count() function you provided has a time complexity of O(n^3), \n",
    "# where n represents the value of the counter parameter.\n",
    "\n",
    "# The function contains three nested for loops that iterate from 0 to counter. Each\n",
    "#  loop depends on the outer loop, resulting in a cubic relationship. As the value of\n",
    "#  counter increases, the number of iterations and the time taken by the\n",
    "#  function grow significantly.\n",
    "\n",
    "def count(counter):\n",
    "    for i in range(counter):\n",
    "        for j in range(counter):\n",
    "            for k in range(counter):\n",
    "                result = k * j * i\n",
    "    return result "
   ]
  },
  {
   "cell_type": "code",
   "execution_count": null,
   "metadata": {},
   "outputs": [],
   "source": [
    "# Here's an example of a Python function with exponential time complexity:\n",
    "\n",
    "def power_set(elements):\n",
    "    n = len(elements)\n",
    "    power_set_size = 2 ** n\n",
    "\n",
    "    for i in range(power_set_size):\n",
    "        subset = []\n",
    "        for j in range(n):\n",
    "            if (i & (1 << j)) > 0:\n",
    "                subset.append(elements[j])\n",
    "        print(subset)\n",
    "\n",
    "# In this example, the power_set() function generates the power set of a given set of\n",
    "#  elements. The power set is the set of all possible subsets of a set.\n",
    "\n",
    "# The function uses a nested loop structure to generate subsets. The outer loop\n",
    "#  iterates power_set_size times, which is equal to 2^n, where n is the number of elements.\n",
    "#  The inner loop iterates n times to determine which elements to include in each subset.\n",
    "\n",
    "# Since the number of iterations in the outer loop is directly related to 2^n, the time\n",
    "#  complexity of the function is exponential, O(2^n). As the number of elements increases, the\n",
    "#  number of iterations grows exponentially, resulting in a significant increase in the execution time.\n",
    "\n",
    "# It's important to note that exponential time complexity indicates that the function's execution time\n",
    "#  increases rapidly as the input size grows, making it less efficient for larger inputs."
   ]
  },
  {
   "cell_type": "code",
   "execution_count": 17,
   "metadata": {},
   "outputs": [
    {
     "data": {
      "text/plain": [
       "[1.0, 1.5, 2.0, 2.5, 3.0]"
      ]
     },
     "execution_count": 17,
     "metadata": {},
     "output_type": "execute_result"
    }
   ],
   "source": [
    "# Running time of this function is o(n ** 2)\n",
    "\n",
    "def prefix_average1(S):\n",
    "    '''Return list such that, for all j, A[j] equals average of S[0], ..., S[j].'''\n",
    "    \n",
    "    # o(1)\n",
    "    n = len(S)\n",
    "    # o(n)\n",
    "    A = [0] * n\n",
    "    # create new list of n zeros\n",
    "    # o(n) \n",
    "    for j in range(n):\n",
    "        total = 0\n",
    "        # begin computing S[0] + ... + S[j]\n",
    "        # o(n)\n",
    "        for i in range(j + 1):\n",
    "            total += S[i]\n",
    "            A[j] = total / (j+1)\n",
    "    # record the average\n",
    "    return A\n",
    "\n",
    "prefix_average1([1,2,3,4,5])"
   ]
  },
  {
   "cell_type": "code",
   "execution_count": null,
   "metadata": {},
   "outputs": [],
   "source": [
    "# How about this?\n",
    "\n",
    "def prefix_average2(S):\n",
    "    \n",
    "    # o(1)\n",
    "    n = len(S)\n",
    "    # o(n)\n",
    "    A = [0] * n\n",
    "    # o(n) \n",
    "    for j in range(n):\n",
    "        # o(n) - because of j + 1 time \n",
    "        A[j] = sum(S[0:j+1]) / (j + 1) \n",
    "    return A\n",
    "\n",
    "# Although this looks like a better way,\n",
    "# it still is o(n**2)"
   ]
  },
  {
   "cell_type": "code",
   "execution_count": null,
   "metadata": {},
   "outputs": [],
   "source": [
    "# A linear time algorithm PogChamp\n",
    "\n",
    "# In algorithm prefix average3, we maintain the current prefix sum dynamically, effectively\n",
    "# computing S[0] + S[1] + · · · + S[ j] as total + S[j], where value total is equal to the\n",
    "# sum S[0] + S[1] + · · · + S[ j − 1] computed by the previous pass of the loop over j.\n",
    "\n",
    "# just pass the result as soon as it's ready. Basically use the loop you have, just like an enterpreneur.\n",
    "\n",
    "def prefix_average3(S):\n",
    "    # o(1)\n",
    "    n = len(S)\n",
    "    # o(n)\n",
    "    A = [0] * n\n",
    "    # o(1)\n",
    "    total = 0\n",
    "    # o(n)\n",
    "    for j in range(n):\n",
    "        # o(1)\n",
    "        total += S[j]\n",
    "        # o(1)\n",
    "        A[j] = total / j + 1\n",
    "    return A"
   ]
  },
  {
   "cell_type": "code",
   "execution_count": 18,
   "metadata": {},
   "outputs": [],
   "source": [
    "# Three-Way Set Disjointness\n",
    "\n",
    "def disjoint1(A,B,C):\n",
    "    for a in A:\n",
    "        for b in B:\n",
    "            for c in C:\n",
    "                if a == b == c:\n",
    "                    return False\n",
    "    return True\n",
    "\n",
    "# scary algorithm for disjointness. O(n**3)"
   ]
  },
  {
   "cell_type": "code",
   "execution_count": null,
   "metadata": {},
   "outputs": [],
   "source": [
    "def disjoint2(A,B,C):\n",
    "    for a in A:\n",
    "        for b in B:\n",
    "            if a == b:\n",
    "                for c in C:\n",
    "                    if a == c:\n",
    "                        return False\n",
    "    return True\n",
    "\n",
    "# In the improved version, it is not simply that we save time if we get lucky. We\n",
    "# claim that the worst-case running time for disjoint2 is O(n2 ). There are quadratically\n",
    "#  many pairs (a, b) to consider. However, if A and B are each sets of distinct\n",
    "# elements, there can be at most O(n) such pairs with a equal to b. Therefore, the\n",
    "# innermost loop, over C, executes at most n times.\n",
    "\n",
    "# To account for the overall running time, we examine the time spent executing\n",
    "# each line of code. The management of the for loop over A requires O(n) time.\n",
    "# The management of the for loop over B accounts for a total of O(n2 ) time, since\n",
    "# that loop is executed n different times. The test a == b is evaluated O(n2 ) times.\n",
    "# The rest of the time spent depends upon how many matching (a, b) pairs exist. As\n",
    "# we have noted, there are at most n such pairs, and so the management of the loop\n",
    "# over C, and the commands within the body of that loop, use at most O(n 2 ) time.\n",
    "# By our standard application of Proposition 3.9, the total time spent is O(n2 ).\n"
   ]
  },
  {
   "cell_type": "code",
   "execution_count": null,
   "metadata": {},
   "outputs": [],
   "source": [
    "# Element Uniqueness\n",
    "\n",
    "def unique1(S):\n",
    "    for j in range(len(S)):\n",
    "        for k in range(j+1,len(S)):\n",
    "            if S[j] == S[k]:\n",
    "                return False\n",
    "    return True\n",
    "\n",
    "# Pretty clear that its O(n**2)"
   ]
  },
  {
   "cell_type": "code",
   "execution_count": null,
   "metadata": {},
   "outputs": [],
   "source": [
    "# Using Sorting as a Problem-Solving Tool\n",
    "\n",
    "# An even better algorithm for the element uniqueness problem is based on using\n",
    "# sorting as a problem-solving tool. In this case, by sorting the sequence of elements,\n",
    "# we are guaranteed that any duplicate elements will be placed next to each other.\n",
    "# Thus, to determine if there are any duplicates, all we need to do is perform a single\n",
    "#  pass over the sorted sequence, looking for consecutive duplicates. A Python\n",
    "# implementation of this algorithm is as follows:\n",
    "\n",
    "def unique2(S):\n",
    "    temp = sorted(S)\n",
    "    for j in range(1,len(temp)):\n",
    "        if S[j-1] == S[j]:\n",
    "            return False\n",
    "    return True\n",
    "\n",
    "# The built-in function, sorted, as described in Section 1.5.2, produces a copy of\n",
    "# the original list with elements in sorted order. It guarantees a worst-case running\n",
    "# time of O(n log n); see Chapter 12 for a discussion of common sorting algorithms.\n",
    "# Once the data is sorted, the subsequent loop runs in O(n) time, and so the entire\n",
    "# unique2 algorithm runs in O(n log n) time."
   ]
  },
  {
   "cell_type": "code",
   "execution_count": null,
   "metadata": {},
   "outputs": [],
   "source": []
  },
  {
   "cell_type": "code",
   "execution_count": null,
   "metadata": {},
   "outputs": [
    {
     "name": "stderr",
     "output_type": "stream",
     "text": [
      "/tmp/ipykernel_810/2007684615.py:21: RuntimeWarning: divide by zero encountered in log\n",
      "  plt.plot(np.log(n), np.log(fn_log), label=\"4n log n\")\n"
     ]
    },
    {
     "data": {
      "image/png": "[encoded data removed]",
      "text/plain": [
       "<Figure size 640x480 with 1 Axes>"
      ]
     },
     "metadata": {},
     "output_type": "display_data"
    }
   ],
   "source": [
    "# R-3.1\n",
    "# Graph the functions 8n, 4n log n, 2n 2 , n3 , and 2n using a logarithmic scale\n",
    "# for the x- and y-axes; that is, if the function value f (n) is y, plot this as a\n",
    "# point with x-coordinate at log n and y-coordinate at log y.\n",
    "\n",
    "import numpy as np\n",
    "import matplotlib.pyplot as plt\n",
    "\n",
    "# Generate values for n\n",
    "n = np.linspace(1, 10, 100)  # Adjust the range and number of points as needed\n",
    "\n",
    "# Calculate the function values\n",
    "fn = 8 * n\n",
    "fn_log = 4 * n * np.log(n)\n",
    "fn_squared = 2 * np.power(n, 2)\n",
    "fn_cubed = np.power(n, 3)\n",
    "fn_exp = np.power(2, n)\n",
    "\n",
    "# Plot the points on a logarithmic scale\n",
    "plt.plot(np.log(n), np.log(fn), label=\"8n\")\n",
    "plt.plot(np.log(n), np.log(fn_log), label=\"4n log n\")\n",
    "plt.plot(np.log(n), np.log(fn_squared), label=\"2n^2\")\n",
    "plt.plot(np.log(n), np.log(fn_cubed), label=\"n^3\")\n",
    "plt.plot(np.log(n), np.log(fn_exp), label=\"2^n\")\n",
    "\n",
    "# Set up the plot\n",
    "plt.xlabel(\"log(n)\")\n",
    "plt.ylabel(\"log(y)\")\n",
    "plt.title(\"Graph of Functions on Logarithmic Scale\")\n",
    "plt.legend()\n",
    "\n",
    "# Display the plot\n",
    "plt.show()"
   ]
  },
  {
   "cell_type": "code",
   "execution_count": null,
   "metadata": {},
   "outputs": [],
   "source": []
  },
  {
   "cell_type": "code",
   "execution_count": null,
   "metadata": {},
   "outputs": [],
   "source": []
  },
  {
   "cell_type": "code",
   "execution_count": null,
   "metadata": {},
   "outputs": [],
   "source": []
  },
  {
   "cell_type": "code",
   "execution_count": null,
   "metadata": {},
   "outputs": [],
   "source": []
  },
  {
   "cell_type": "code",
   "execution_count": null,
   "metadata": {},
   "outputs": [],
   "source": []
  },
  {
   "cell_type": "code",
   "execution_count": null,
   "metadata": {},
   "outputs": [],
   "source": []
  },
  {
   "cell_type": "code",
   "execution_count": null,
   "metadata": {},
   "outputs": [
    {
     "name": "stderr",
     "output_type": "stream",
     "text": [
      "/tmp/ipykernel_810/2007684615.py:21: RuntimeWarning: divide by zero encountered in log\n",
      "  plt.plot(np.log(n), np.log(fn_log), label=\"4n log n\")\n"
     ]
    },
    {
     "data": {
      "image/png": "[encoded data removed]",
      "text/plain": [
       "<Figure size 640x480 with 1 Axes>"
      ]
     },
     "metadata": {},
     "output_type": "display_data"
    }
   ],
   "source": [
    "# R-3.1\n",
    "# Graph the functions 8n, 4n log n, 2n 2 , n3 , and 2n using a logarithmic scale\n",
    "# for the x- and y-axes; that is, if the function value f (n) is y, plot this as a\n",
    "# point with x-coordinate at log n and y-coordinate at log y.\n",
    "\n",
    "import numpy as np\n",
    "import matplotlib.pyplot as plt\n",
    "\n",
    "# Generate values for n\n",
    "n = np.linspace(1, 10, 100)  # Adjust the range and number of points as needed\n",
    "\n",
    "# Calculate the function values\n",
    "fn = 8 * n\n",
    "fn_log = 4 * n * np.log(n)\n",
    "fn_squared = 2 * np.power(n, 2)\n",
    "fn_cubed = np.power(n, 3)\n",
    "fn_exp = np.power(2, n)\n",
    "\n",
    "# Plot the points on a logarithmic scale\n",
    "plt.plot(np.log(n), np.log(fn), label=\"8n\")\n",
    "plt.plot(np.log(n), np.log(fn_log), label=\"4n log n\")\n",
    "plt.plot(np.log(n), np.log(fn_squared), label=\"2n^2\")\n",
    "plt.plot(np.log(n), np.log(fn_cubed), label=\"n^3\")\n",
    "plt.plot(np.log(n), np.log(fn_exp), label=\"2^n\")\n",
    "\n",
    "# Set up the plot\n",
    "plt.xlabel(\"log(n)\")\n",
    "plt.ylabel(\"log(y)\")\n",
    "plt.title(\"Graph of Functions on Logarithmic Scale\")\n",
    "plt.legend()\n",
    "\n",
    "# Display the plot\n",
    "plt.show()"
   ]
  }
 ],
 "metadata": {
  "kernelspec": {
   "display_name": "Python 3.8.16 ('api_tryout')",
   "language": "python",
   "name": "python3"
  },
  "language_info": {
   "codemirror_mode": {
    "name": "ipython",
    "version": 3
   },
   "file_extension": ".py",
   "mimetype": "text/x-python",
   "name": "python",
   "nbconvert_exporter": "python",
   "pygments_lexer": "ipython3",
   "version": "3.8.16"
  },
  "orig_nbformat": 4,
  "vscode": {
   "interpreter": {
    "hash": "5c91247f238ffe20a81ff6d7bbd78e8b7013835d5efca94aed45fabb2c8c2521"
   }
  }
 },
 "nbformat": 4,
 "nbformat_minor": 2
}
